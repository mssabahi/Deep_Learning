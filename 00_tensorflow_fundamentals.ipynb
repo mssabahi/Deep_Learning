{
  "nbformat": 4,
  "nbformat_minor": 0,
  "metadata": {
    "colab": {
      "name": "00_tensorflow_fundamentals.ipynb",
      "provenance": [],
      "collapsed_sections": [],
      "toc_visible": true,
      "authorship_tag": "ABX9TyNF8XGqgtmaOs/K6knfUoZA",
      "include_colab_link": true
    },
    "kernelspec": {
      "name": "python3",
      "display_name": "Python 3"
    },
    "language_info": {
      "name": "python"
    },
    "accelerator": "GPU"
  },
  "cells": [
    {
      "cell_type": "markdown",
      "metadata": {
        "id": "view-in-github",
        "colab_type": "text"
      },
      "source": [
        "<a href=\"https://colab.research.google.com/github/mssabahi/Deep_Learning/blob/main/00_tensorflow_fundamentals.ipynb\" target=\"_parent\"><img src=\"https://colab.research.google.com/assets/colab-badge.svg\" alt=\"Open In Colab\"/></a>"
      ]
    },
    {
      "cell_type": "markdown",
      "metadata": {
        "id": "fsXAXkKDKyx_"
      },
      "source": [
        "# In this notebook the fundamental of tensors will be used using tensorflow.\n",
        "More specifically:\n",
        "\n",
        "* Introduction to tensors\n",
        "* Getting information from tensors\n",
        "* Manipulating tensors\n",
        "* Tensors & NumPy\n",
        "* Using @tf.functions (a way to speed of your regular Python function)\n",
        "* Using GPUs or TPUs with tensorflows\n",
        "* Excersise to try for yourself"
      ]
    },
    {
      "cell_type": "markdown",
      "metadata": {
        "id": "p0hES9U9MWe3"
      },
      "source": [
        "# Introduction to Tensors"
      ]
    },
    {
      "cell_type": "code",
      "metadata": {
        "colab": {
          "base_uri": "https://localhost:8080/"
        },
        "id": "3A93QgJxNDlQ",
        "outputId": "83707fad-892b-4610-85fb-a08321347c5d"
      },
      "source": [
        "# Import tensorflow\n",
        "import tensorflow as tf\n",
        "print(tf.__version__)"
      ],
      "execution_count": 1,
      "outputs": [
        {
          "output_type": "stream",
          "name": "stdout",
          "text": [
            "2.6.0\n"
          ]
        }
      ]
    },
    {
      "cell_type": "markdown",
      "metadata": {
        "id": "l8XAfl0OMwg_"
      },
      "source": [
        "# Creating tensors with tf.constant()\n",
        "As mentioned before, in general, you usually won't create tensors yourself. This is because TensorFlow has modules built-in (such as tf.io and tf.data) which are able to read your data sources and automatically convert them to tensors and then later on, neural network models will process these for us."
      ]
    },
    {
      "cell_type": "code",
      "metadata": {
        "colab": {
          "base_uri": "https://localhost:8080/"
        },
        "id": "-h58-3A9NvgR",
        "outputId": "cfe95819-82cb-4102-8030-5143834b51a2"
      },
      "source": [
        "# Create a scalar (rank 0 tensor)\n",
        "scalar = tf.constant(7)\n",
        "scalar"
      ],
      "execution_count": 2,
      "outputs": [
        {
          "output_type": "execute_result",
          "data": {
            "text/plain": [
              "<tf.Tensor: shape=(), dtype=int32, numpy=7>"
            ]
          },
          "metadata": {},
          "execution_count": 2
        }
      ]
    },
    {
      "cell_type": "code",
      "metadata": {
        "colab": {
          "base_uri": "https://localhost:8080/"
        },
        "id": "2REbzKCZM503",
        "outputId": "9f3ec610-3b5d-4337-99de-cf1a2f6bf18f"
      },
      "source": [
        "scalar.ndim"
      ],
      "execution_count": 3,
      "outputs": [
        {
          "output_type": "execute_result",
          "data": {
            "text/plain": [
              "0"
            ]
          },
          "metadata": {},
          "execution_count": 3
        }
      ]
    },
    {
      "cell_type": "code",
      "metadata": {
        "colab": {
          "base_uri": "https://localhost:8080/"
        },
        "id": "c_cFFVCVM6Zv",
        "outputId": "d62406ad-995e-4e93-cbc5-9c466f8c5871"
      },
      "source": [
        "# Create a vector (more than 0 dimensions)\n",
        "vector = tf.constant([10, 10])\n",
        "vector"
      ],
      "execution_count": 4,
      "outputs": [
        {
          "output_type": "execute_result",
          "data": {
            "text/plain": [
              "<tf.Tensor: shape=(2,), dtype=int32, numpy=array([10, 10], dtype=int32)>"
            ]
          },
          "metadata": {},
          "execution_count": 4
        }
      ]
    },
    {
      "cell_type": "code",
      "metadata": {
        "colab": {
          "base_uri": "https://localhost:8080/"
        },
        "id": "04DkCXaHQG6_",
        "outputId": "662133b3-7252-436b-e420-1e5ac1a3c2df"
      },
      "source": [
        "vector.ndim"
      ],
      "execution_count": 5,
      "outputs": [
        {
          "output_type": "execute_result",
          "data": {
            "text/plain": [
              "1"
            ]
          },
          "metadata": {},
          "execution_count": 5
        }
      ]
    },
    {
      "cell_type": "code",
      "metadata": {
        "colab": {
          "base_uri": "https://localhost:8080/"
        },
        "id": "ByD8RiP3QHsU",
        "outputId": "28b192d5-d1c7-4bab-ed26-dc3b7777c388"
      },
      "source": [
        "# Create a matrix (more than 1 dimension)\n",
        "matrix = tf.constant([[2,3],\n",
        "                      [4,5]])\n",
        "matrix"
      ],
      "execution_count": 6,
      "outputs": [
        {
          "output_type": "execute_result",
          "data": {
            "text/plain": [
              "<tf.Tensor: shape=(2, 2), dtype=int32, numpy=\n",
              "array([[2, 3],\n",
              "       [4, 5]], dtype=int32)>"
            ]
          },
          "metadata": {},
          "execution_count": 6
        }
      ]
    },
    {
      "cell_type": "code",
      "metadata": {
        "colab": {
          "base_uri": "https://localhost:8080/"
        },
        "id": "5UNR2eXfQITh",
        "outputId": "ef76bebd-ce45-4c73-d1e9-d086cdcde99e"
      },
      "source": [
        "matrix.ndim"
      ],
      "execution_count": 7,
      "outputs": [
        {
          "output_type": "execute_result",
          "data": {
            "text/plain": [
              "2"
            ]
          },
          "metadata": {},
          "execution_count": 7
        }
      ]
    },
    {
      "cell_type": "code",
      "metadata": {
        "colab": {
          "base_uri": "https://localhost:8080/"
        },
        "id": "B8X1SgcgM6xy",
        "outputId": "ddf18b94-a2cf-4bc8-8519-2083c74b5684"
      },
      "source": [
        "matrix2 = tf.constant([\n",
        "                       [[2,3,4,5],\n",
        "                        [6,7,8,9]]\n",
        "                       ,\n",
        "                        [[1,2,3,3],\n",
        "                        [0,1,2,2]]\n",
        "                       ], dtype=float)\n",
        "matrix2"
      ],
      "execution_count": 8,
      "outputs": [
        {
          "output_type": "execute_result",
          "data": {
            "text/plain": [
              "<tf.Tensor: shape=(2, 2, 4), dtype=float32, numpy=\n",
              "array([[[2., 3., 4., 5.],\n",
              "        [6., 7., 8., 9.]],\n",
              "\n",
              "       [[1., 2., 3., 3.],\n",
              "        [0., 1., 2., 2.]]], dtype=float32)>"
            ]
          },
          "metadata": {},
          "execution_count": 8
        }
      ]
    },
    {
      "cell_type": "code",
      "metadata": {
        "colab": {
          "base_uri": "https://localhost:8080/"
        },
        "id": "vV66CilQRf-n",
        "outputId": "36042b43-5c0d-4303-f729-4dc179889135"
      },
      "source": [
        "matrix2.ndim"
      ],
      "execution_count": 9,
      "outputs": [
        {
          "output_type": "execute_result",
          "data": {
            "text/plain": [
              "3"
            ]
          },
          "metadata": {},
          "execution_count": 9
        }
      ]
    },
    {
      "cell_type": "markdown",
      "metadata": {
        "id": "OW8be4KQRlEN"
      },
      "source": [
        "# Creating with tf.variable"
      ]
    },
    {
      "cell_type": "code",
      "metadata": {
        "colab": {
          "base_uri": "https://localhost:8080/"
        },
        "id": "8YWjgkoFSzhW",
        "outputId": "8accfdda-4436-4cd4-b959-a9889e28bc03"
      },
      "source": [
        "tf.Variable"
      ],
      "execution_count": 10,
      "outputs": [
        {
          "output_type": "execute_result",
          "data": {
            "text/plain": [
              "tensorflow.python.ops.variables.Variable"
            ]
          },
          "metadata": {},
          "execution_count": 10
        }
      ]
    },
    {
      "cell_type": "markdown",
      "metadata": {
        "id": "jX70sU50S2nU"
      },
      "source": [
        "The difference between tf.Variable() and tf.constant() is tensors created with tf.constant() are immutable (can't be changed, can only be used to create a new tensor), where as, tensors created with tf.Variable() are mutable (can be changed)."
      ]
    },
    {
      "cell_type": "code",
      "metadata": {
        "id": "ZN7y3VJDY_MT"
      },
      "source": [
        "# Create the same tensor with tf.Variable() and tf.constant()\n",
        "changable_tensor = tf.Variable([12,13])\n",
        "unchangable_tensor = tf.constant([12,14])"
      ],
      "execution_count": 11,
      "outputs": []
    },
    {
      "cell_type": "code",
      "metadata": {
        "colab": {
          "base_uri": "https://localhost:8080/"
        },
        "id": "DQV82umUZVk7",
        "outputId": "bd444d40-dc8b-4424-f49f-77183ae1501d"
      },
      "source": [
        "changable_tensor[0]"
      ],
      "execution_count": 12,
      "outputs": [
        {
          "output_type": "execute_result",
          "data": {
            "text/plain": [
              "<tf.Tensor: shape=(), dtype=int32, numpy=12>"
            ]
          },
          "metadata": {},
          "execution_count": 12
        }
      ]
    },
    {
      "cell_type": "code",
      "metadata": {
        "id": "KAu__FdMZYsC"
      },
      "source": [
        "# changable_tensor[0] = 2\n",
        "\n",
        "# ---------------------------------------------------------------------------\n",
        "# TypeError                                 Traceback (most recent call last)\n",
        "# <ipython-input-14-e40dbc510147> in <module>()\n",
        "# ----> 1 changable_tensor[0] = 2\n",
        "\n",
        "# TypeError: 'ResourceVariable' object does not support item assignment"
      ],
      "execution_count": 13,
      "outputs": []
    },
    {
      "cell_type": "code",
      "metadata": {
        "colab": {
          "base_uri": "https://localhost:8080/"
        },
        "id": "FyeIp2kLZbEK",
        "outputId": "3139d829-35f0-4360-f10d-499acf5b2cd2"
      },
      "source": [
        "changable_tensor[0].assign(2)\n",
        "changable_tensor"
      ],
      "execution_count": 14,
      "outputs": [
        {
          "output_type": "execute_result",
          "data": {
            "text/plain": [
              "<tf.Variable 'Variable:0' shape=(2,) dtype=int32, numpy=array([ 2, 13], dtype=int32)>"
            ]
          },
          "metadata": {},
          "execution_count": 14
        }
      ]
    },
    {
      "cell_type": "code",
      "metadata": {
        "id": "KghGUaJtZgDy"
      },
      "source": [
        "# unchangable_tensor[0].assign(2)\n",
        "# ---------------------------------------------------------------------------\n",
        "# AttributeError                            Traceback (most recent call last)\n",
        "# <ipython-input-16-a69bfbc2f360> in <module>()\n",
        "# ----> 1 unchangable_tensor[0].assign(2)\n",
        "\n",
        "# /usr/local/lib/python3.7/dist-packages/tensorflow/python/framework/ops.py in __getattr__(self, name)\n",
        "#     399         from tensorflow.python.ops.numpy_ops import np_config\n",
        "#     400         np_config.enable_numpy_behavior()\"\"\".format(type(self).__name__, name))\n",
        "# --> 401     self.__getattribute__(name)\n",
        "#     402 \n",
        "#     403   @staticmethod\n",
        "\n",
        "# AttributeError: 'tensorflow.python.framework.ops.EagerTensor' object has no attribute 'assign'"
      ],
      "execution_count": 15,
      "outputs": []
    },
    {
      "cell_type": "markdown",
      "metadata": {
        "id": "4I11M_E0ZoTi"
      },
      "source": [
        "### Rarley in practice we need to decide whether to use tf.constant or tf.Variable"
      ]
    },
    {
      "cell_type": "markdown",
      "metadata": {
        "id": "mH2rZMUOakTK"
      },
      "source": [
        "# Creating random tensors\n",
        "have arbitrary size contain random numbers\n"
      ]
    },
    {
      "cell_type": "code",
      "metadata": {
        "colab": {
          "base_uri": "https://localhost:8080/"
        },
        "id": "JCuo-0RjaqHS",
        "outputId": "c966bb06-eeac-407a-ac50-e371ac2c1b88"
      },
      "source": [
        "rnd_n_1 = tf.random.Generator.from_seed(42 )\n",
        "rnd_n_1 = rnd_n_1.normal(shape=(4,2))\n",
        "\n",
        "rnd_u_1 = tf.random.Generator.from_seed(42 )\n",
        "rnd_u_1 = rnd_u_1.uniform(shape=(4,2))\n",
        "\n",
        "print(f'Variables with Normal Distribution = {rnd_n_1}')\n",
        "print(f'Variables with Uniform Distribution = {rnd_u_1}')"
      ],
      "execution_count": 16,
      "outputs": [
        {
          "output_type": "stream",
          "name": "stdout",
          "text": [
            "Variables with Normal Distribution = [[-0.7565803  -0.06854702]\n",
            " [ 0.07595026 -1.2573844 ]\n",
            " [-0.23193763 -1.8107855 ]\n",
            " [ 0.09988727 -0.50998646]]\n",
            "Variables with Uniform Distribution = [[0.7493447  0.73561966]\n",
            " [0.45230794 0.49039817]\n",
            " [0.1889317  0.52027524]\n",
            " [0.8736881  0.46921718]]\n"
          ]
        }
      ]
    },
    {
      "cell_type": "code",
      "metadata": {
        "colab": {
          "base_uri": "https://localhost:8080/"
        },
        "id": "Vt-9SXtHlA2J",
        "outputId": "191e02e7-4360-4d79-eb90-fd77a5277c1a"
      },
      "source": [
        "tf.random.get_global_generator().normal((2,3)) # To generate random number without seeds"
      ],
      "execution_count": 17,
      "outputs": [
        {
          "output_type": "execute_result",
          "data": {
            "text/plain": [
              "<tf.Tensor: shape=(2, 3), dtype=float32, numpy=\n",
              "array([[ 1.3558414 ,  0.26764822, -0.72009915],\n",
              "       [-0.7519263 , -0.6281898 , -0.36892524]], dtype=float32)>"
            ]
          },
          "metadata": {},
          "execution_count": 17
        }
      ]
    },
    {
      "cell_type": "markdown",
      "metadata": {
        "id": "ZcMIlnCDdqJa"
      },
      "source": [
        "# Shuffling the order of tensors\n",
        "(valuable for when you want to shuffle your data)"
      ]
    },
    {
      "cell_type": "code",
      "metadata": {
        "colab": {
          "base_uri": "https://localhost:8080/"
        },
        "id": "VFUoMriAifoI",
        "outputId": "d97edffe-d56f-4aa8-a3f5-255c35a8998c"
      },
      "source": [
        "not_shuffled = tf.Variable([[1,2,3],[4,5,6],[7,8,9]])\n",
        "not_shuffled"
      ],
      "execution_count": 18,
      "outputs": [
        {
          "output_type": "execute_result",
          "data": {
            "text/plain": [
              "<tf.Variable 'Variable:0' shape=(3, 3) dtype=int32, numpy=\n",
              "array([[1, 2, 3],\n",
              "       [4, 5, 6],\n",
              "       [7, 8, 9]], dtype=int32)>"
            ]
          },
          "metadata": {},
          "execution_count": 18
        }
      ]
    },
    {
      "cell_type": "code",
      "metadata": {
        "colab": {
          "base_uri": "https://localhost:8080/"
        },
        "id": "qNA5X9SIjf6G",
        "outputId": "6a7cbb49-bc7f-4444-b548-0d28d3634dae"
      },
      "source": [
        "# Shuffle in the same order every time using the seed parameter (won't acutally be the same)\n",
        "# Set the global random seed\n",
        "tf.random.set_seed(42) # if you comment this out you'll get different results\n",
        "\n",
        "# Set the operation random seed\n",
        "tf.random.shuffle(not_shuffled)"
      ],
      "execution_count": 19,
      "outputs": [
        {
          "output_type": "execute_result",
          "data": {
            "text/plain": [
              "<tf.Tensor: shape=(3, 3), dtype=int32, numpy=\n",
              "array([[4, 5, 6],\n",
              "       [7, 8, 9],\n",
              "       [1, 2, 3]], dtype=int32)>"
            ]
          },
          "metadata": {},
          "execution_count": 19
        }
      ]
    },
    {
      "cell_type": "code",
      "metadata": {
        "id": "ONIrEPMq3W1v"
      },
      "source": [
        "# !pip install emath@git+git://github.com/whitead/emoji-math.git"
      ],
      "execution_count": 20,
      "outputs": []
    },
    {
      "cell_type": "markdown",
      "metadata": {
        "id": "L7Pgccv_8AeE"
      },
      "source": [
        "# Creating a tensor from NumPy arrays."
      ]
    },
    {
      "cell_type": "code",
      "metadata": {
        "colab": {
          "base_uri": "https://localhost:8080/"
        },
        "id": "V5K9lbP3B0hD",
        "outputId": "6dbb7e0a-cff5-4006-c51c-ed5fe82b56bc"
      },
      "source": [
        "tf.ones((2,3))"
      ],
      "execution_count": 21,
      "outputs": [
        {
          "output_type": "execute_result",
          "data": {
            "text/plain": [
              "<tf.Tensor: shape=(2, 3), dtype=float32, numpy=\n",
              "array([[1., 1., 1.],\n",
              "       [1., 1., 1.]], dtype=float32)>"
            ]
          },
          "metadata": {},
          "execution_count": 21
        }
      ]
    },
    {
      "cell_type": "code",
      "metadata": {
        "colab": {
          "base_uri": "https://localhost:8080/"
        },
        "id": "8vsQRlAECDqT",
        "outputId": "7e5a01ce-57cd-469b-d8cc-468ac5d9cb55"
      },
      "source": [
        "tf.zeros((3,2))"
      ],
      "execution_count": 22,
      "outputs": [
        {
          "output_type": "execute_result",
          "data": {
            "text/plain": [
              "<tf.Tensor: shape=(3, 2), dtype=float32, numpy=\n",
              "array([[0., 0.],\n",
              "       [0., 0.],\n",
              "       [0., 0.]], dtype=float32)>"
            ]
          },
          "metadata": {},
          "execution_count": 22
        }
      ]
    },
    {
      "cell_type": "markdown",
      "metadata": {
        "id": "gqMRlEb6CMox"
      },
      "source": [
        "### The main difference between tensors and NumPy arrays is that tensors can be run on GPUs."
      ]
    },
    {
      "cell_type": "markdown",
      "metadata": {
        "id": "CeyMaok86ajw"
      },
      "source": [
        "\n",
        "🔑 Note: A matrix or tensor is typically represented by a capital letter (e.g. **X** or **A**) where as a vector is typically represented by a lowercase \n",
        "letter (e.g. **y** or **b**).\n",
        "\n"
      ]
    },
    {
      "cell_type": "code",
      "metadata": {
        "colab": {
          "base_uri": "https://localhost:8080/"
        },
        "id": "ZwfVAx9oCxpJ",
        "outputId": "3874fb79-e65b-44e3-ccb6-49edf41e0ae4"
      },
      "source": [
        "aa = tf.ones((2, 3, 3, 4))\n",
        "aa"
      ],
      "execution_count": 23,
      "outputs": [
        {
          "output_type": "execute_result",
          "data": {
            "text/plain": [
              "<tf.Tensor: shape=(2, 3, 3, 4), dtype=float32, numpy=\n",
              "array([[[[1., 1., 1., 1.],\n",
              "         [1., 1., 1., 1.],\n",
              "         [1., 1., 1., 1.]],\n",
              "\n",
              "        [[1., 1., 1., 1.],\n",
              "         [1., 1., 1., 1.],\n",
              "         [1., 1., 1., 1.]],\n",
              "\n",
              "        [[1., 1., 1., 1.],\n",
              "         [1., 1., 1., 1.],\n",
              "         [1., 1., 1., 1.]]],\n",
              "\n",
              "\n",
              "       [[[1., 1., 1., 1.],\n",
              "         [1., 1., 1., 1.],\n",
              "         [1., 1., 1., 1.]],\n",
              "\n",
              "        [[1., 1., 1., 1.],\n",
              "         [1., 1., 1., 1.],\n",
              "         [1., 1., 1., 1.]],\n",
              "\n",
              "        [[1., 1., 1., 1.],\n",
              "         [1., 1., 1., 1.],\n",
              "         [1., 1., 1., 1.]]]], dtype=float32)>"
            ]
          },
          "metadata": {},
          "execution_count": 23
        }
      ]
    },
    {
      "cell_type": "code",
      "metadata": {
        "colab": {
          "base_uri": "https://localhost:8080/"
        },
        "id": "RIKnkSvjZUlv",
        "outputId": "294bb736-46f2-45f4-c670-d4c07486af23"
      },
      "source": [
        "tf.Variable(initial_value=[123])"
      ],
      "execution_count": 24,
      "outputs": [
        {
          "output_type": "execute_result",
          "data": {
            "text/plain": [
              "<tf.Variable 'Variable:0' shape=(1,) dtype=int32, numpy=array([123], dtype=int32)>"
            ]
          },
          "metadata": {},
          "execution_count": 24
        }
      ]
    },
    {
      "cell_type": "code",
      "metadata": {
        "colab": {
          "base_uri": "https://localhost:8080/"
        },
        "id": "wNd1z-VbaNlo",
        "outputId": "69203c16-9b24-436f-b80a-5704bd77ebfe"
      },
      "source": [
        "tf_test_01 = tf.Variable(tf.random.uniform([2,3,2,2], 0, 10, dtype=tf.int32, seed=0))\n",
        "tf_test_01"
      ],
      "execution_count": 25,
      "outputs": [
        {
          "output_type": "execute_result",
          "data": {
            "text/plain": [
              "<tf.Variable 'Variable:0' shape=(2, 3, 2, 2) dtype=int32, numpy=\n",
              "array([[[[3, 1],\n",
              "         [7, 7]],\n",
              "\n",
              "        [[3, 5],\n",
              "         [4, 1]],\n",
              "\n",
              "        [[3, 9],\n",
              "         [3, 1]]],\n",
              "\n",
              "\n",
              "       [[[1, 5],\n",
              "         [7, 1]],\n",
              "\n",
              "        [[0, 7],\n",
              "         [3, 9]],\n",
              "\n",
              "        [[3, 8],\n",
              "         [0, 5]]]], dtype=int32)>"
            ]
          },
          "metadata": {},
          "execution_count": 25
        }
      ]
    },
    {
      "cell_type": "code",
      "metadata": {
        "colab": {
          "base_uri": "https://localhost:8080/"
        },
        "id": "0Cjelai7ah_y",
        "outputId": "0029d2a7-a737-43aa-bfa0-bc8cbc7b2b5e"
      },
      "source": [
        "tf_test_01[1,0,1,1].assign(100)"
      ],
      "execution_count": 26,
      "outputs": [
        {
          "output_type": "execute_result",
          "data": {
            "text/plain": [
              "<tf.Variable 'UnreadVariable' shape=(2, 3, 2, 2) dtype=int32, numpy=\n",
              "array([[[[  3,   1],\n",
              "         [  7,   7]],\n",
              "\n",
              "        [[  3,   5],\n",
              "         [  4,   1]],\n",
              "\n",
              "        [[  3,   9],\n",
              "         [  3,   1]]],\n",
              "\n",
              "\n",
              "       [[[  1,   5],\n",
              "         [  7, 100]],\n",
              "\n",
              "        [[  0,   7],\n",
              "         [  3,   9]],\n",
              "\n",
              "        [[  3,   8],\n",
              "         [  0,   5]]]], dtype=int32)>"
            ]
          },
          "metadata": {},
          "execution_count": 26
        }
      ]
    },
    {
      "cell_type": "code",
      "metadata": {
        "colab": {
          "base_uri": "https://localhost:8080/"
        },
        "id": "FRV9Y8ubMkiF",
        "outputId": "310a270b-9c02-403f-826a-f64a9b3e6af3"
      },
      "source": [
        "tf_test_01 = tf.random.Generator.from_seed(1234)\n",
        "\n",
        "tf_test_01 = tf.random.Generator.from_seed(20).normal((2,4,2,3))\n",
        "tf_test_01"
      ],
      "execution_count": 27,
      "outputs": [
        {
          "output_type": "execute_result",
          "data": {
            "text/plain": [
              "<tf.Tensor: shape=(2, 4, 2, 3), dtype=float32, numpy=\n",
              "array([[[[ 0.88051325, -1.6833194 ,  0.86754173],\n",
              "         [-0.19625713, -1.322665  , -0.02279496]],\n",
              "\n",
              "        [[-0.1383193 ,  0.44207528, -0.7531523 ],\n",
              "         [ 2.0261486 , -0.06997604,  0.85445154]],\n",
              "\n",
              "        [[ 0.1175475 ,  0.03493892, -1.5700307 ],\n",
              "         [ 0.4457582 ,  0.10944034, -0.8035768 ]],\n",
              "\n",
              "        [[-1.7166729 ,  0.3738578 , -0.14371012],\n",
              "         [-0.34646833,  1.1456194 , -0.416     ]]],\n",
              "\n",
              "\n",
              "       [[[ 0.43369916,  1.0241015 , -0.74785167],\n",
              "         [-0.59090924, -1.2060374 ,  0.8307429 ]],\n",
              "\n",
              "        [[ 1.0951619 ,  1.3672234 , -0.54532146],\n",
              "         [ 1.9302735 , -0.3151453 , -0.8761205 ]],\n",
              "\n",
              "        [[-2.7316678 , -0.15730922,  1.3692921 ],\n",
              "         [-0.4367834 ,  0.8357487 ,  0.20849545]],\n",
              "\n",
              "        [[ 1.4040174 , -2.735283  ,  1.2232229 ],\n",
              "         [-1.8653691 ,  0.00511209, -1.0493753 ]]]], dtype=float32)>"
            ]
          },
          "metadata": {},
          "execution_count": 27
        }
      ]
    },
    {
      "cell_type": "code",
      "metadata": {
        "colab": {
          "base_uri": "https://localhost:8080/"
        },
        "id": "r1V8WrckQnwT",
        "outputId": "0f6b268f-4133-4a48-f499-7aea1b0434d5"
      },
      "source": [
        "tf_test_01[0,1,0,0]"
      ],
      "execution_count": 28,
      "outputs": [
        {
          "output_type": "execute_result",
          "data": {
            "text/plain": [
              "<tf.Tensor: shape=(), dtype=float32, numpy=-0.1383193>"
            ]
          },
          "metadata": {},
          "execution_count": 28
        }
      ]
    },
    {
      "cell_type": "markdown",
      "metadata": {
        "id": "Fdc8HLY7RWh9"
      },
      "source": [
        "# Getting Information from tensors"
      ]
    },
    {
      "cell_type": "markdown",
      "metadata": {
        "id": "9a888ISBUkE_"
      },
      "source": [
        "There will be times when you'll want to get different pieces of information from your tensors, in particuluar, you should know the following tensor vocabulary:\n",
        "\n",
        "*   **Shape**: The length (number of elements) of each of the dimensions of a tensor.\n",
        "*   **Rank**: The number of tensor dimensions. A scalar has rank 0, a vector has rank 1, a matrix is rank 2, a tensor has rank n.\n",
        "*   **Axis** or Dimension: A particular dimension of a tensor.\n",
        "*   **Size**: The total number of items in the tensor.\n"
      ]
    },
    {
      "cell_type": "code",
      "metadata": {
        "colab": {
          "base_uri": "https://localhost:8080/"
        },
        "id": "zjF8No5wY1PL",
        "outputId": "5f2f6528-a9e8-4ffe-e966-ed3301ebe5bc"
      },
      "source": [
        "# Create a rank 4 tensor (4 dimensions)\n",
        "rank_4_tensor = tf.zeros((2, 3, 4, 5))\n",
        "rank_4_tensor"
      ],
      "execution_count": 29,
      "outputs": [
        {
          "output_type": "execute_result",
          "data": {
            "text/plain": [
              "<tf.Tensor: shape=(2, 3, 4, 5), dtype=float32, numpy=\n",
              "array([[[[0., 0., 0., 0., 0.],\n",
              "         [0., 0., 0., 0., 0.],\n",
              "         [0., 0., 0., 0., 0.],\n",
              "         [0., 0., 0., 0., 0.]],\n",
              "\n",
              "        [[0., 0., 0., 0., 0.],\n",
              "         [0., 0., 0., 0., 0.],\n",
              "         [0., 0., 0., 0., 0.],\n",
              "         [0., 0., 0., 0., 0.]],\n",
              "\n",
              "        [[0., 0., 0., 0., 0.],\n",
              "         [0., 0., 0., 0., 0.],\n",
              "         [0., 0., 0., 0., 0.],\n",
              "         [0., 0., 0., 0., 0.]]],\n",
              "\n",
              "\n",
              "       [[[0., 0., 0., 0., 0.],\n",
              "         [0., 0., 0., 0., 0.],\n",
              "         [0., 0., 0., 0., 0.],\n",
              "         [0., 0., 0., 0., 0.]],\n",
              "\n",
              "        [[0., 0., 0., 0., 0.],\n",
              "         [0., 0., 0., 0., 0.],\n",
              "         [0., 0., 0., 0., 0.],\n",
              "         [0., 0., 0., 0., 0.]],\n",
              "\n",
              "        [[0., 0., 0., 0., 0.],\n",
              "         [0., 0., 0., 0., 0.],\n",
              "         [0., 0., 0., 0., 0.],\n",
              "         [0., 0., 0., 0., 0.]]]], dtype=float32)>"
            ]
          },
          "metadata": {},
          "execution_count": 29
        }
      ]
    },
    {
      "cell_type": "code",
      "metadata": {
        "colab": {
          "base_uri": "https://localhost:8080/"
        },
        "id": "B6sJeU_cbboF",
        "outputId": "5c8e015b-115a-413e-958b-e0ee563d404a"
      },
      "source": [
        "print(\"Elements along axis 0 of tensor:\", rank_4_tensor.shape[0])"
      ],
      "execution_count": 30,
      "outputs": [
        {
          "output_type": "stream",
          "name": "stdout",
          "text": [
            "Elements along axis 0 of tensor: 2\n"
          ]
        }
      ]
    },
    {
      "cell_type": "code",
      "metadata": {
        "colab": {
          "base_uri": "https://localhost:8080/"
        },
        "id": "CFhfNRAha9Mz",
        "outputId": "55bc4a84-5238-4130-efa9-0da855472cbc"
      },
      "source": [
        "# Get various attributes of tensor\n",
        "print(\"Datatype of every element:\", rank_4_tensor.dtype)\n",
        "print(\"Number of dimensions (rank):\", rank_4_tensor.ndim)\n",
        "print(\"Shape of tensor:\", rank_4_tensor.shape)\n",
        "print(\"Elements along axis 0 of tensor:\", rank_4_tensor.shape[0])\n",
        "print(\"Elements along last axis of tensor:\", rank_4_tensor.shape[-1])\n",
        "print(\"Total number of elements (2*3*4*5):\", tf.size(rank_4_tensor).numpy()) # .numpy() converts to NumPy array"
      ],
      "execution_count": 31,
      "outputs": [
        {
          "output_type": "stream",
          "name": "stdout",
          "text": [
            "Datatype of every element: <dtype: 'float32'>\n",
            "Number of dimensions (rank): 4\n",
            "Shape of tensor: (2, 3, 4, 5)\n",
            "Elements along axis 0 of tensor: 2\n",
            "Elements along last axis of tensor: 5\n",
            "Total number of elements (2*3*4*5): 120\n"
          ]
        }
      ]
    },
    {
      "cell_type": "markdown",
      "metadata": {
        "id": "c9CPhT39brUS"
      },
      "source": [
        "# Indexing\n",
        "You can also index tensors just like Python lists.\n",
        "\n"
      ]
    },
    {
      "cell_type": "code",
      "metadata": {
        "colab": {
          "base_uri": "https://localhost:8080/"
        },
        "id": "5hts07HSce7i",
        "outputId": "c32aa5a1-2daf-4cd1-8f2c-0eba26496855"
      },
      "source": [
        "tf.random.set_seed(5)\n",
        "rank_4_tensor_new = tf.Variable(tf.random.uniform([2,3,4,5]))\n",
        "rank_4_tensor_new"
      ],
      "execution_count": 32,
      "outputs": [
        {
          "output_type": "execute_result",
          "data": {
            "text/plain": [
              "<tf.Variable 'Variable:0' shape=(2, 3, 4, 5) dtype=float32, numpy=\n",
              "array([[[[0.6263931 , 0.5298432 , 0.7584572 , 0.5084884 , 0.34415376],\n",
              "         [0.31959772, 0.69165003, 0.2665254 , 0.03728402, 0.20195806],\n",
              "         [0.27757192, 0.14514387, 0.2632339 , 0.30723798, 0.3054142 ],\n",
              "         [0.40084064, 0.31193304, 0.90468144, 0.7916621 , 0.75609195]],\n",
              "\n",
              "        [[0.6157565 , 0.03640282, 0.93310726, 0.7649263 , 0.7422414 ],\n",
              "         [0.02858794, 0.34645987, 0.44837487, 0.46826434, 0.93760514],\n",
              "         [0.49955702, 0.8588258 , 0.56008434, 0.60858595, 0.5712477 ],\n",
              "         [0.57801986, 0.99914443, 0.5327579 , 0.04764938, 0.3474946 ]],\n",
              "\n",
              "        [[0.33369792, 0.89474916, 0.9426874 , 0.9472102 , 0.10648286],\n",
              "         [0.617066  , 0.8403715 , 0.7066246 , 0.59802914, 0.0299114 ],\n",
              "         [0.0022999 , 0.5984256 , 0.05244112, 0.5965891 , 0.81351566],\n",
              "         [0.37422216, 0.57518184, 0.3036133 , 0.44588637, 0.513654  ]]],\n",
              "\n",
              "\n",
              "       [[[0.5504117 , 0.17384589, 0.85631883, 0.8028133 , 0.72859514],\n",
              "         [0.33115077, 0.14530587, 0.5655298 , 0.04024768, 0.60457957],\n",
              "         [0.88781   , 0.35284698, 0.6563294 , 0.8276745 , 0.41713202],\n",
              "         [0.5731157 , 0.48627913, 0.5502862 , 0.832234  , 0.15567148]],\n",
              "\n",
              "        [[0.8795583 , 0.36491227, 0.54014814, 0.65170205, 0.2167232 ],\n",
              "         [0.9307021 , 0.6631397 , 0.68700886, 0.5405781 , 0.9755621 ],\n",
              "         [0.38537443, 0.58082974, 0.3025546 , 0.31333876, 0.03151727],\n",
              "         [0.07610583, 0.94632256, 0.02470446, 0.96444297, 0.1766038 ]],\n",
              "\n",
              "        [[0.82077026, 0.9750124 , 0.37218857, 0.34847236, 0.14370191],\n",
              "         [0.8150246 , 0.93170154, 0.24334788, 0.7190101 , 0.25658095],\n",
              "         [0.23850012, 0.5736147 , 0.43149316, 0.41873872, 0.14940012],\n",
              "         [0.45464504, 0.42281973, 0.4326682 , 0.21101737, 0.0457648 ]]]],\n",
              "      dtype=float32)>"
            ]
          },
          "metadata": {},
          "execution_count": 32
        }
      ]
    },
    {
      "cell_type": "code",
      "metadata": {
        "colab": {
          "base_uri": "https://localhost:8080/"
        },
        "id": "6huoYpvMm-02",
        "outputId": "4a574f41-badd-4f4b-ae04-78db0b0843da"
      },
      "source": [
        "# Get the first 2 items of each dimension\n",
        "rank_4_tensor_new[:6,:66,:6,:6]"
      ],
      "execution_count": 33,
      "outputs": [
        {
          "output_type": "execute_result",
          "data": {
            "text/plain": [
              "<tf.Tensor: shape=(2, 3, 4, 5), dtype=float32, numpy=\n",
              "array([[[[0.6263931 , 0.5298432 , 0.7584572 , 0.5084884 , 0.34415376],\n",
              "         [0.31959772, 0.69165003, 0.2665254 , 0.03728402, 0.20195806],\n",
              "         [0.27757192, 0.14514387, 0.2632339 , 0.30723798, 0.3054142 ],\n",
              "         [0.40084064, 0.31193304, 0.90468144, 0.7916621 , 0.75609195]],\n",
              "\n",
              "        [[0.6157565 , 0.03640282, 0.93310726, 0.7649263 , 0.7422414 ],\n",
              "         [0.02858794, 0.34645987, 0.44837487, 0.46826434, 0.93760514],\n",
              "         [0.49955702, 0.8588258 , 0.56008434, 0.60858595, 0.5712477 ],\n",
              "         [0.57801986, 0.99914443, 0.5327579 , 0.04764938, 0.3474946 ]],\n",
              "\n",
              "        [[0.33369792, 0.89474916, 0.9426874 , 0.9472102 , 0.10648286],\n",
              "         [0.617066  , 0.8403715 , 0.7066246 , 0.59802914, 0.0299114 ],\n",
              "         [0.0022999 , 0.5984256 , 0.05244112, 0.5965891 , 0.81351566],\n",
              "         [0.37422216, 0.57518184, 0.3036133 , 0.44588637, 0.513654  ]]],\n",
              "\n",
              "\n",
              "       [[[0.5504117 , 0.17384589, 0.85631883, 0.8028133 , 0.72859514],\n",
              "         [0.33115077, 0.14530587, 0.5655298 , 0.04024768, 0.60457957],\n",
              "         [0.88781   , 0.35284698, 0.6563294 , 0.8276745 , 0.41713202],\n",
              "         [0.5731157 , 0.48627913, 0.5502862 , 0.832234  , 0.15567148]],\n",
              "\n",
              "        [[0.8795583 , 0.36491227, 0.54014814, 0.65170205, 0.2167232 ],\n",
              "         [0.9307021 , 0.6631397 , 0.68700886, 0.5405781 , 0.9755621 ],\n",
              "         [0.38537443, 0.58082974, 0.3025546 , 0.31333876, 0.03151727],\n",
              "         [0.07610583, 0.94632256, 0.02470446, 0.96444297, 0.1766038 ]],\n",
              "\n",
              "        [[0.82077026, 0.9750124 , 0.37218857, 0.34847236, 0.14370191],\n",
              "         [0.8150246 , 0.93170154, 0.24334788, 0.7190101 , 0.25658095],\n",
              "         [0.23850012, 0.5736147 , 0.43149316, 0.41873872, 0.14940012],\n",
              "         [0.45464504, 0.42281973, 0.4326682 , 0.21101737, 0.0457648 ]]]],\n",
              "      dtype=float32)>"
            ]
          },
          "metadata": {},
          "execution_count": 33
        }
      ]
    },
    {
      "cell_type": "code",
      "metadata": {
        "colab": {
          "base_uri": "https://localhost:8080/"
        },
        "id": "T_g3tpXbrsii",
        "outputId": "976ac923-4202-4fd0-afb3-af21da9eac59"
      },
      "source": [
        "# Create a rank 2 tensor (2 dimensions)\n",
        "rank_2_tensor = tf.constant([[10, 7],\n",
        "                             [3, 4]])\n",
        "\n",
        "# Get the last item of each row\n",
        "rank_2_tensor[:, -1]"
      ],
      "execution_count": 34,
      "outputs": [
        {
          "output_type": "execute_result",
          "data": {
            "text/plain": [
              "<tf.Tensor: shape=(2,), dtype=int32, numpy=array([7, 4], dtype=int32)>"
            ]
          },
          "metadata": {},
          "execution_count": 34
        }
      ]
    },
    {
      "cell_type": "markdown",
      "metadata": {
        "id": "NJzju8ims7f1"
      },
      "source": [
        "### You can also add dimensions to your tensor whilst keeping the same information present using tf.newaxis."
      ]
    },
    {
      "cell_type": "code",
      "metadata": {
        "colab": {
          "base_uri": "https://localhost:8080/"
        },
        "id": "FzWQiFskn5z4",
        "outputId": "70cbf6d7-951e-4bec-9c5a-ac9707f233d3"
      },
      "source": [
        "# Add an extra dimension (to the end)\n",
        "rank_3_tensor = rank_2_tensor[..., tf.newaxis] # in Python \"...\" means \"all dimensions prior to\"\n",
        "rank_3_tensor\n",
        "# rank_2_tensor, rank_3_tensor # shape (2, 2), shape (2, 2, 1)"
      ],
      "execution_count": 35,
      "outputs": [
        {
          "output_type": "execute_result",
          "data": {
            "text/plain": [
              "<tf.Tensor: shape=(2, 2, 1), dtype=int32, numpy=\n",
              "array([[[10],\n",
              "        [ 7]],\n",
              "\n",
              "       [[ 3],\n",
              "        [ 4]]], dtype=int32)>"
            ]
          },
          "metadata": {},
          "execution_count": 35
        }
      ]
    },
    {
      "cell_type": "markdown",
      "metadata": {
        "id": "4lMC5WyftJh7"
      },
      "source": [
        "### You can achieve the same using tf.expand_dims().\n",
        "\n"
      ]
    },
    {
      "cell_type": "code",
      "metadata": {
        "colab": {
          "base_uri": "https://localhost:8080/"
        },
        "id": "5bTm6J_4wybM",
        "outputId": "9a35d7fe-ee95-41ee-8377-d69831457d73"
      },
      "source": [
        "tf.expand_dims(rank_2_tensor, axis=0)"
      ],
      "execution_count": 36,
      "outputs": [
        {
          "output_type": "execute_result",
          "data": {
            "text/plain": [
              "<tf.Tensor: shape=(1, 2, 2), dtype=int32, numpy=\n",
              "array([[[10,  7],\n",
              "        [ 3,  4]]], dtype=int32)>"
            ]
          },
          "metadata": {},
          "execution_count": 36
        }
      ]
    },
    {
      "cell_type": "markdown",
      "metadata": {
        "id": "0E1Kyt1exC-R"
      },
      "source": [
        "# Manipulating tensors (tensor operations)\n",
        "\n",
        "\n",
        "### Basic operations¶\n",
        "\n",
        "You can perform many of the basic mathematical operations directly on tensors using Pyhton operators such as\n",
        ", `+`, `-`, `*`."
      ]
    },
    {
      "cell_type": "code",
      "metadata": {
        "colab": {
          "base_uri": "https://localhost:8080/"
        },
        "id": "PrS037AH05no",
        "outputId": "e6ad153b-5da7-490f-9614-30ce6987b440"
      },
      "source": [
        "# You can add values to a tensor using the addition operator\n",
        "ts_01 = tf.constant([[10, 7], [3, 4]])\n",
        "ts_01 + 10"
      ],
      "execution_count": 37,
      "outputs": [
        {
          "output_type": "execute_result",
          "data": {
            "text/plain": [
              "<tf.Tensor: shape=(2, 2), dtype=int32, numpy=\n",
              "array([[20, 17],\n",
              "       [13, 14]], dtype=int32)>"
            ]
          },
          "metadata": {},
          "execution_count": 37
        }
      ]
    },
    {
      "cell_type": "markdown",
      "metadata": {
        "id": "z-4G4wLO1dsY"
      },
      "source": [
        "#### Since we used tf.constant(), the original tensor is unchanged (the addition gets done on a copy)."
      ]
    },
    {
      "cell_type": "code",
      "metadata": {
        "colab": {
          "base_uri": "https://localhost:8080/"
        },
        "id": "Ot3DTXxa1kKO",
        "outputId": "be8a4e7f-49c2-44af-d5ef-e4e0eb8f8fe7"
      },
      "source": [
        "ts_01"
      ],
      "execution_count": 38,
      "outputs": [
        {
          "output_type": "execute_result",
          "data": {
            "text/plain": [
              "<tf.Tensor: shape=(2, 2), dtype=int32, numpy=\n",
              "array([[10,  7],\n",
              "       [ 3,  4]], dtype=int32)>"
            ]
          },
          "metadata": {},
          "execution_count": 38
        }
      ]
    },
    {
      "cell_type": "code",
      "metadata": {
        "colab": {
          "base_uri": "https://localhost:8080/"
        },
        "id": "RcCkRXCv1pTh",
        "outputId": "3e88bdeb-643a-48e3-829e-1993ba85b7fa"
      },
      "source": [
        "# Multiplication (known as element-wise multiplication)\n",
        "ts_01 * 10"
      ],
      "execution_count": 39,
      "outputs": [
        {
          "output_type": "execute_result",
          "data": {
            "text/plain": [
              "<tf.Tensor: shape=(2, 2), dtype=int32, numpy=\n",
              "array([[100,  70],\n",
              "       [ 30,  40]], dtype=int32)>"
            ]
          },
          "metadata": {},
          "execution_count": 39
        }
      ]
    },
    {
      "cell_type": "markdown",
      "metadata": {
        "id": "MXUyPjpL1qk_"
      },
      "source": [
        "#### Another way: Using the TensorFlow function (where possible) "
      ]
    },
    {
      "cell_type": "code",
      "metadata": {
        "colab": {
          "base_uri": "https://localhost:8080/"
        },
        "id": "XwVTVYiQ2FQX",
        "outputId": "c4a3ef64-be1d-4342-9cad-88a231691a1d"
      },
      "source": [
        "# Use the tensorflow function equivalent of the '*' (multiply) operator\n",
        "tf.multiply(ts_01, 10)"
      ],
      "execution_count": 40,
      "outputs": [
        {
          "output_type": "execute_result",
          "data": {
            "text/plain": [
              "<tf.Tensor: shape=(2, 2), dtype=int32, numpy=\n",
              "array([[100,  70],\n",
              "       [ 30,  40]], dtype=int32)>"
            ]
          },
          "metadata": {},
          "execution_count": 40
        }
      ]
    },
    {
      "cell_type": "markdown",
      "metadata": {
        "id": "yyYyloos2J8u"
      },
      "source": [
        "# Matrix mutliplication-Part 1\n",
        "One of the most common operations in machine learning algorithms is matrix multiplication.\n",
        "\n",
        "TensorFlow implements this matrix multiplication functionality in the tf.matmul() method.\n",
        "\n",
        "The main two rules for matrix multiplication to remember are:\n",
        "\n",
        "The inner dimensions must match:\n",
        "* (3, 5) @ (3, 5) won't work\n",
        "* (5, 3) @ (3, 5) will work\n",
        "* (3, 5) @ (5, 3) will work\n",
        "The resulting matrix has the shape of the outer dimensions:\n",
        "* (5, 3) @ (3, 5) -> (5, 5)\n",
        "* (3, 5) @ (5, 3) -> (3, 3)\n",
        "\n",
        "🔑 Note: '@' in Python is the symbol for matrix multiplication.\n",
        "\n"
      ]
    },
    {
      "cell_type": "code",
      "metadata": {
        "colab": {
          "base_uri": "https://localhost:8080/"
        },
        "id": "_1xXd_Sr1SOd",
        "outputId": "16c1f2e1-b040-485c-8372-184e870d95af"
      },
      "source": [
        "# Matrix multiplication in TensorFlow\n",
        "print(ts_01)\n",
        "tf.matmul(ts_01, ts_01)"
      ],
      "execution_count": 41,
      "outputs": [
        {
          "output_type": "stream",
          "name": "stdout",
          "text": [
            "tf.Tensor(\n",
            "[[10  7]\n",
            " [ 3  4]], shape=(2, 2), dtype=int32)\n"
          ]
        },
        {
          "output_type": "execute_result",
          "data": {
            "text/plain": [
              "<tf.Tensor: shape=(2, 2), dtype=int32, numpy=\n",
              "array([[121,  98],\n",
              "       [ 42,  37]], dtype=int32)>"
            ]
          },
          "metadata": {},
          "execution_count": 41
        }
      ]
    },
    {
      "cell_type": "code",
      "metadata": {
        "colab": {
          "base_uri": "https://localhost:8080/"
        },
        "id": "R8m7LP2g1_d8",
        "outputId": "462203e8-2a8c-4397-ea62-3150bf84e6ac"
      },
      "source": [
        "# Matrix multiplication with Python operator '@'\n",
        "ts_01 @ ts_01\n"
      ],
      "execution_count": 42,
      "outputs": [
        {
          "output_type": "execute_result",
          "data": {
            "text/plain": [
              "<tf.Tensor: shape=(2, 2), dtype=int32, numpy=\n",
              "array([[121,  98],\n",
              "       [ 42,  37]], dtype=int32)>"
            ]
          },
          "metadata": {},
          "execution_count": 42
        }
      ]
    },
    {
      "cell_type": "code",
      "metadata": {
        "colab": {
          "base_uri": "https://localhost:8080/"
        },
        "id": "AKRL51OL2Hm4",
        "outputId": "bf6cfff9-9f63-40a2-a830-b8dfe9b08fe7"
      },
      "source": [
        "ts_01 * ts_01"
      ],
      "execution_count": 43,
      "outputs": [
        {
          "output_type": "execute_result",
          "data": {
            "text/plain": [
              "<tf.Tensor: shape=(2, 2), dtype=int32, numpy=\n",
              "array([[100,  49],\n",
              "       [  9,  16]], dtype=int32)>"
            ]
          },
          "metadata": {},
          "execution_count": 43
        }
      ]
    },
    {
      "cell_type": "code",
      "metadata": {
        "colab": {
          "base_uri": "https://localhost:8080/"
        },
        "id": "9Hil05rv2Yxp",
        "outputId": "50080439-a019-497c-a345-b6fc9f48f519"
      },
      "source": [
        "import numpy as np\n",
        "np_01 = np.array([[1,2,3],[4,5,6]])\n",
        "np_01.shape"
      ],
      "execution_count": 44,
      "outputs": [
        {
          "output_type": "execute_result",
          "data": {
            "text/plain": [
              "(2, 3)"
            ]
          },
          "metadata": {},
          "execution_count": 44
        }
      ]
    },
    {
      "cell_type": "code",
      "metadata": {
        "colab": {
          "base_uri": "https://localhost:8080/"
        },
        "id": "5AsGKDE15caL",
        "outputId": "32822b66-7ff0-499d-e5e2-4a58f078fe63"
      },
      "source": [
        "np_01"
      ],
      "execution_count": 45,
      "outputs": [
        {
          "output_type": "execute_result",
          "data": {
            "text/plain": [
              "array([[1, 2, 3],\n",
              "       [4, 5, 6]])"
            ]
          },
          "metadata": {},
          "execution_count": 45
        }
      ]
    },
    {
      "cell_type": "code",
      "metadata": {
        "colab": {
          "base_uri": "https://localhost:8080/"
        },
        "id": "ArbHrUiO37nH",
        "outputId": "5060e3f8-9130-43fc-ee6a-a5c3636fa1b6"
      },
      "source": [
        "np.vstack([np_01,[4,44,444]])"
      ],
      "execution_count": 46,
      "outputs": [
        {
          "output_type": "execute_result",
          "data": {
            "text/plain": [
              "array([[  1,   2,   3],\n",
              "       [  4,   5,   6],\n",
              "       [  4,  44, 444]])"
            ]
          },
          "metadata": {},
          "execution_count": 46
        }
      ]
    },
    {
      "cell_type": "code",
      "metadata": {
        "colab": {
          "base_uri": "https://localhost:8080/"
        },
        "id": "D2hgg_oX4ObI",
        "outputId": "3baac65d-ddff-4714-83c2-46b0b42e95f7"
      },
      "source": [
        "batch = [ [[2, 2],\n",
        "           [2, 2]],\n",
        "          [[3, 3],\n",
        "           [3, 3]],\n",
        "          [[4, 4],\n",
        "           [4, 4]] ] \n",
        "t = tf.convert_to_tensor(batch, dtype=np.float32)\n",
        "row_to_add = [1,1]         \n",
        "appended_t = tf.map_fn(lambda x: tf.concat((x, [row_to_add]), axis=0), t)\n",
        "appended_t"
      ],
      "execution_count": 47,
      "outputs": [
        {
          "output_type": "execute_result",
          "data": {
            "text/plain": [
              "<tf.Tensor: shape=(3, 3, 2), dtype=float32, numpy=\n",
              "array([[[2., 2.],\n",
              "        [2., 2.],\n",
              "        [1., 1.]],\n",
              "\n",
              "       [[3., 3.],\n",
              "        [3., 3.],\n",
              "        [1., 1.]],\n",
              "\n",
              "       [[4., 4.],\n",
              "        [4., 4.],\n",
              "        [1., 1.]]], dtype=float32)>"
            ]
          },
          "metadata": {},
          "execution_count": 47
        }
      ]
    },
    {
      "cell_type": "markdown",
      "metadata": {
        "id": "2AOyd0dW6Y3O"
      },
      "source": [
        "# Matrix Mutliplication-Part 1\n",
        "Let's try tf.reshape() first."
      ]
    },
    {
      "cell_type": "code",
      "metadata": {
        "colab": {
          "base_uri": "https://localhost:8080/"
        },
        "id": "co0tjkFWke1-",
        "outputId": "d087b042-c40e-4d73-94fa-a1f4824076e0"
      },
      "source": [
        "# Example of reshape (3, 2) -> (2, 3)\n",
        "tf.reshape(appended_t, shape=(3,2, 3))"
      ],
      "execution_count": 48,
      "outputs": [
        {
          "output_type": "execute_result",
          "data": {
            "text/plain": [
              "<tf.Tensor: shape=(3, 2, 3), dtype=float32, numpy=\n",
              "array([[[2., 2., 2.],\n",
              "        [2., 1., 1.]],\n",
              "\n",
              "       [[3., 3., 3.],\n",
              "        [3., 1., 1.]],\n",
              "\n",
              "       [[4., 4., 4.],\n",
              "        [4., 1., 1.]]], dtype=float32)>"
            ]
          },
          "metadata": {},
          "execution_count": 48
        }
      ]
    },
    {
      "cell_type": "code",
      "metadata": {
        "colab": {
          "base_uri": "https://localhost:8080/"
        },
        "id": "pyDlbZfSpQtc",
        "outputId": "05ccb49a-fc31-4591-e974-d28bd73e37fa"
      },
      "source": [
        "appended_t"
      ],
      "execution_count": 49,
      "outputs": [
        {
          "output_type": "execute_result",
          "data": {
            "text/plain": [
              "<tf.Tensor: shape=(3, 3, 2), dtype=float32, numpy=\n",
              "array([[[2., 2.],\n",
              "        [2., 2.],\n",
              "        [1., 1.]],\n",
              "\n",
              "       [[3., 3.],\n",
              "        [3., 3.],\n",
              "        [1., 1.]],\n",
              "\n",
              "       [[4., 4.],\n",
              "        [4., 4.],\n",
              "        [1., 1.]]], dtype=float32)>"
            ]
          },
          "metadata": {},
          "execution_count": 49
        }
      ]
    },
    {
      "cell_type": "code",
      "metadata": {
        "colab": {
          "base_uri": "https://localhost:8080/"
        },
        "id": "th2cSZyXu-O3",
        "outputId": "0d4eaac1-3936-4019-8c97-8942448e62e5"
      },
      "source": [
        "ts_03 = tf.Variable([[2,3,4],\n",
        "                     [5,6,7]])\n",
        "ts_04 = tf.Variable([[7,8,9],\n",
        "                     [5,60,7]])\n",
        "ts_03.shape, ts_04.shape"
      ],
      "execution_count": 50,
      "outputs": [
        {
          "output_type": "execute_result",
          "data": {
            "text/plain": [
              "(TensorShape([2, 3]), TensorShape([2, 3]))"
            ]
          },
          "metadata": {},
          "execution_count": 50
        }
      ]
    },
    {
      "cell_type": "code",
      "metadata": {
        "colab": {
          "base_uri": "https://localhost:8080/"
        },
        "id": "hlSFN2QstCeZ",
        "outputId": "c7918f1a-4a49-4a20-fa0d-ba660ab6bfff"
      },
      "source": [
        "# Try matrix multiplication with reshaped Y\n",
        "ts_03 @ tf.reshape(ts_04, shape=(3, 2))"
      ],
      "execution_count": 51,
      "outputs": [
        {
          "output_type": "execute_result",
          "data": {
            "text/plain": [
              "<tf.Tensor: shape=(2, 2), dtype=int32, numpy=\n",
              "array([[281,  59],\n",
              "       [509, 119]], dtype=int32)>"
            ]
          },
          "metadata": {},
          "execution_count": 51
        }
      ]
    },
    {
      "cell_type": "markdown",
      "metadata": {
        "id": "NWAZSD_Du_oh"
      },
      "source": [
        "It worked, let's try the same with a reshaped X, except this time we'll use tf.transpose() and tf.matmul()."
      ]
    },
    {
      "cell_type": "markdown",
      "metadata": {
        "id": "b_Zb8SyO2XXj"
      },
      "source": [
        "# Matrix Multiplication_Part 2"
      ]
    },
    {
      "cell_type": "code",
      "metadata": {
        "colab": {
          "base_uri": "https://localhost:8080/"
        },
        "id": "C_Rqi9N91VRw",
        "outputId": "aa58aba5-f2bc-45c5-d396-aadcaf07f329"
      },
      "source": [
        "# Example of transpose (3, 2) -> (2, 3)\n",
        "tf.transpose(ts_03)"
      ],
      "execution_count": 52,
      "outputs": [
        {
          "output_type": "execute_result",
          "data": {
            "text/plain": [
              "<tf.Tensor: shape=(3, 2), dtype=int32, numpy=\n",
              "array([[2, 5],\n",
              "       [3, 6],\n",
              "       [4, 7]], dtype=int32)>"
            ]
          },
          "metadata": {},
          "execution_count": 52
        }
      ]
    },
    {
      "cell_type": "code",
      "metadata": {
        "colab": {
          "base_uri": "https://localhost:8080/"
        },
        "id": "871Q3kqe1xJo",
        "outputId": "7bfe5fb9-05de-45ce-824d-27996ee23536"
      },
      "source": [
        "ts_03"
      ],
      "execution_count": 53,
      "outputs": [
        {
          "output_type": "execute_result",
          "data": {
            "text/plain": [
              "<tf.Variable 'Variable:0' shape=(2, 3) dtype=int32, numpy=\n",
              "array([[2, 3, 4],\n",
              "       [5, 6, 7]], dtype=int32)>"
            ]
          },
          "metadata": {},
          "execution_count": 53
        }
      ]
    },
    {
      "cell_type": "code",
      "metadata": {
        "colab": {
          "base_uri": "https://localhost:8080/"
        },
        "id": "VZDhAJiB1c1n",
        "outputId": "3117fdb8-6fc4-4e29-d6f7-8a3d73454f20"
      },
      "source": [
        "# Try matrix multiplication \n",
        "tf.matmul(tf.transpose(ts_03), ts_04)"
      ],
      "execution_count": 54,
      "outputs": [
        {
          "output_type": "execute_result",
          "data": {
            "text/plain": [
              "<tf.Tensor: shape=(3, 3), dtype=int32, numpy=\n",
              "array([[ 39, 316,  53],\n",
              "       [ 51, 384,  69],\n",
              "       [ 63, 452,  85]], dtype=int32)>"
            ]
          },
          "metadata": {},
          "execution_count": 54
        }
      ]
    },
    {
      "cell_type": "code",
      "metadata": {
        "colab": {
          "base_uri": "https://localhost:8080/"
        },
        "id": "P3MMVyJJ1kZQ",
        "outputId": "dfa80bde-6646-4ffe-c700-1aa1ce21934c"
      },
      "source": [
        "# You can achieve the same result with parameters\n",
        "tf.matmul(a=ts_03, b=ts_04, transpose_a=True, transpose_b=False)\n"
      ],
      "execution_count": 55,
      "outputs": [
        {
          "output_type": "execute_result",
          "data": {
            "text/plain": [
              "<tf.Tensor: shape=(3, 3), dtype=int32, numpy=\n",
              "array([[ 39, 316,  53],\n",
              "       [ 51, 384,  69],\n",
              "       [ 63, 452,  85]], dtype=int32)>"
            ]
          },
          "metadata": {},
          "execution_count": 55
        }
      ]
    },
    {
      "cell_type": "markdown",
      "metadata": {
        "id": "vgjkbFzm2Pfq"
      },
      "source": [
        "# Matrix Multiplication_Part 3\n",
        "The dot product\n",
        "* `tf.matmul()`\n",
        "* `tf.tensordot()`"
      ]
    },
    {
      "cell_type": "code",
      "metadata": {
        "colab": {
          "base_uri": "https://localhost:8080/"
        },
        "id": "JtBRDoyl2r-Y",
        "outputId": "024af6ff-1541-485f-ee26-db55e56cad90"
      },
      "source": [
        "print(f'dot product when axes=0: {tf.tensordot(tf.constant([1,2,3]), tf.constant((4,5,6)), axes=0).numpy()}') \n",
        "\n",
        "print(f'dot product when axes=1: {tf.tensordot(tf.constant([1,2,3]), tf.constant((4,5,6)), axes=1).numpy()}') "
      ],
      "execution_count": 56,
      "outputs": [
        {
          "output_type": "stream",
          "name": "stdout",
          "text": [
            "dot product when axes=0: [[ 4  5  6]\n",
            " [ 8 10 12]\n",
            " [12 15 18]]\n",
            "dot product when axes=1: 32\n"
          ]
        }
      ]
    },
    {
      "cell_type": "code",
      "metadata": {
        "colab": {
          "base_uri": "https://localhost:8080/"
        },
        "id": "wR-MgGz77uh0",
        "outputId": "ec66c777-38c3-4c2f-d9d0-2129c306361a"
      },
      "source": [
        "print(tf.tensordot(ts_03,ts_04, axes=0))\n",
        "print(ts_03)\n",
        "print(ts_04)"
      ],
      "execution_count": 57,
      "outputs": [
        {
          "output_type": "stream",
          "name": "stdout",
          "text": [
            "tf.Tensor(\n",
            "[[[[ 14  16  18]\n",
            "   [ 10 120  14]]\n",
            "\n",
            "  [[ 21  24  27]\n",
            "   [ 15 180  21]]\n",
            "\n",
            "  [[ 28  32  36]\n",
            "   [ 20 240  28]]]\n",
            "\n",
            "\n",
            " [[[ 35  40  45]\n",
            "   [ 25 300  35]]\n",
            "\n",
            "  [[ 42  48  54]\n",
            "   [ 30 360  42]]\n",
            "\n",
            "  [[ 49  56  63]\n",
            "   [ 35 420  49]]]], shape=(2, 3, 2, 3), dtype=int32)\n",
            "<tf.Variable 'Variable:0' shape=(2, 3) dtype=int32, numpy=\n",
            "array([[2, 3, 4],\n",
            "       [5, 6, 7]], dtype=int32)>\n",
            "<tf.Variable 'Variable:0' shape=(2, 3) dtype=int32, numpy=\n",
            "array([[ 7,  8,  9],\n",
            "       [ 5, 60,  7]], dtype=int32)>\n"
          ]
        }
      ]
    },
    {
      "cell_type": "code",
      "metadata": {
        "colab": {
          "base_uri": "https://localhost:8080/"
        },
        "id": "cMPYxD5r8J5M",
        "outputId": "154681f6-23dd-47cb-c4a2-436a078731c6"
      },
      "source": [
        "print(f'dot product when axes=0: {tf.tensordot(tf.constant([1,2]), tf.constant((4,5,6)), axes=0).numpy()}') \n"
      ],
      "execution_count": 58,
      "outputs": [
        {
          "output_type": "stream",
          "name": "stdout",
          "text": [
            "dot product when axes=0: [[ 4  5  6]\n",
            " [ 8 10 12]]\n"
          ]
        }
      ]
    },
    {
      "cell_type": "markdown",
      "metadata": {
        "id": "5lvdJ5EdA_os"
      },
      "source": [
        "# Changing the datatype of a tensor\n",
        "tf.cast()\n"
      ]
    },
    {
      "cell_type": "code",
      "metadata": {
        "colab": {
          "base_uri": "https://localhost:8080/"
        },
        "id": "0M0wRd0cBLRa",
        "outputId": "3f4b8c5e-4166-4b06-9ad4-413ddd2c6181"
      },
      "source": [
        "ts_05 = tf.constant([1.9,3])\n",
        "ts_05.dtype"
      ],
      "execution_count": 59,
      "outputs": [
        {
          "output_type": "execute_result",
          "data": {
            "text/plain": [
              "tf.float32"
            ]
          },
          "metadata": {},
          "execution_count": 59
        }
      ]
    },
    {
      "cell_type": "code",
      "metadata": {
        "colab": {
          "base_uri": "https://localhost:8080/"
        },
        "id": "_-VRrHEKIafS",
        "outputId": "ac5a1258-e8ef-49e9-ddbd-f735dee2077b"
      },
      "source": [
        "tf.cast(ts_05, dtype=tf.int16)"
      ],
      "execution_count": 60,
      "outputs": [
        {
          "output_type": "execute_result",
          "data": {
            "text/plain": [
              "<tf.Tensor: shape=(2,), dtype=int16, numpy=array([1, 3], dtype=int16)>"
            ]
          },
          "metadata": {},
          "execution_count": 60
        }
      ]
    },
    {
      "cell_type": "code",
      "metadata": {
        "colab": {
          "base_uri": "https://localhost:8080/"
        },
        "id": "LAa3zDocLKgP",
        "outputId": "fdb212e7-fa5d-4a66-dbd7-3eb8a23ce2ea"
      },
      "source": [
        "# Change from int32 to float32\n",
        "C = tf.constant([1, 7])\n",
        "C = tf.cast(C, dtype=tf.float32)\n",
        "C"
      ],
      "execution_count": 61,
      "outputs": [
        {
          "output_type": "execute_result",
          "data": {
            "text/plain": [
              "<tf.Tensor: shape=(2,), dtype=float32, numpy=array([1., 7.], dtype=float32)>"
            ]
          },
          "metadata": {},
          "execution_count": 61
        }
      ]
    },
    {
      "cell_type": "code",
      "metadata": {
        "colab": {
          "base_uri": "https://localhost:8080/"
        },
        "id": "Rwhw2knVLw1n",
        "outputId": "6e09dbc3-e9a5-4494-e09b-764f0f4e907b"
      },
      "source": [
        "# Create tensor with negative values\n",
        "# Getting the absolute value¶\n",
        "\n",
        "D = tf.constant([-7, -10])\n",
        "D = tf.abs(D)\n",
        "D"
      ],
      "execution_count": 62,
      "outputs": [
        {
          "output_type": "execute_result",
          "data": {
            "text/plain": [
              "<tf.Tensor: shape=(2,), dtype=int32, numpy=array([ 7, 10], dtype=int32)>"
            ]
          },
          "metadata": {},
          "execution_count": 62
        }
      ]
    },
    {
      "cell_type": "code",
      "metadata": {
        "id": "qt3piOHZMG4Q"
      },
      "source": [
        "# Finding the min, max, mean, sum (aggregation)¶"
      ],
      "execution_count": 63,
      "outputs": []
    },
    {
      "cell_type": "markdown",
      "metadata": {
        "id": "Sj7Qvzt1YEGC"
      },
      "source": [
        "###Sum"
      ]
    },
    {
      "cell_type": "code",
      "metadata": {
        "colab": {
          "base_uri": "https://localhost:8080/"
        },
        "id": "3zxycJ1bXVOD",
        "outputId": "bd64ab36-b303-4a50-fba0-5788c35c044d"
      },
      "source": [
        "print(tf.reduce_sum(ts_04, axis=0).numpy())\n",
        "print(tf.reduce_sum(ts_04, axis=1).numpy())\n",
        "print(tf.reduce_sum(ts_04).numpy())"
      ],
      "execution_count": 64,
      "outputs": [
        {
          "output_type": "stream",
          "name": "stdout",
          "text": [
            "[12 68 16]\n",
            "[24 72]\n",
            "96\n"
          ]
        }
      ]
    },
    {
      "cell_type": "markdown",
      "metadata": {
        "id": "new9yi1UYGzq"
      },
      "source": [
        "#### Mean"
      ]
    },
    {
      "cell_type": "code",
      "metadata": {
        "colab": {
          "base_uri": "https://localhost:8080/"
        },
        "id": "5xuCtMmrXbXR",
        "outputId": "833267a0-3107-4b6c-ee76-22ee0cfa6da5"
      },
      "source": [
        "print(tf.reduce_mean(ts_04, axis=0).numpy())\n",
        "print(tf.reduce_mean(ts_04, axis=1).numpy())\n",
        "print(tf.reduce_mean(ts_04).numpy())"
      ],
      "execution_count": 65,
      "outputs": [
        {
          "output_type": "stream",
          "name": "stdout",
          "text": [
            "[ 6 34  8]\n",
            "[ 8 24]\n",
            "16\n"
          ]
        }
      ]
    },
    {
      "cell_type": "markdown",
      "metadata": {
        "id": "1t8xlnNVZPkH"
      },
      "source": [
        "# Standard Deviation of A Tensor\n",
        "the tesnor should be float type"
      ]
    },
    {
      "cell_type": "code",
      "metadata": {
        "colab": {
          "base_uri": "https://localhost:8080/"
        },
        "id": "ltd24UnTXhYR",
        "outputId": "e6289c85-eac1-4a8f-ec48-183c2e9b3765"
      },
      "source": [
        "ts_04 = tf.cast(ts_04,dtype=tf.float16)\n",
        "print(tf.math.reduce_std(ts_04, axis=0).numpy())\n",
        "print(tf.math.reduce_std(ts_04, axis=1).numpy())\n",
        "print(tf.math.reduce_std(ts_04).numpy())"
      ],
      "execution_count": 66,
      "outputs": [
        {
          "output_type": "stream",
          "name": "stdout",
          "text": [
            "[ 1. 26.  1.]\n",
            "[ 0.8164 25.47  ]\n",
            "19.72\n"
          ]
        }
      ]
    },
    {
      "cell_type": "code",
      "metadata": {
        "colab": {
          "base_uri": "https://localhost:8080/"
        },
        "id": "L3cfbNplYiop",
        "outputId": "9d17ff67-4fb2-4c03-b48a-be4241eaf0d5"
      },
      "source": [
        "x1 = tf.constant([[1., 2.], [3., 4.]])\n",
        "tf.math.reduce_std(x1).numpy()"
      ],
      "execution_count": 67,
      "outputs": [
        {
          "output_type": "execute_result",
          "data": {
            "text/plain": [
              "1.118034"
            ]
          },
          "metadata": {},
          "execution_count": 67
        }
      ]
    },
    {
      "cell_type": "code",
      "metadata": {
        "colab": {
          "base_uri": "https://localhost:8080/"
        },
        "id": "UQdzDcYkYwzB",
        "outputId": "ac7c1581-8d33-45ca-ad89-e447965fe3e9"
      },
      "source": [
        "import tensorflow_probability as tfp\n",
        "print(tfp.stats.stddev(ts_04,sample_axis=1).numpy())\n",
        "# print(tf.reduce_mean(ts_04, axis=1).numpy())\n",
        "# print(tf.reduce_mean(ts_04).numpy())"
      ],
      "execution_count": 68,
      "outputs": [
        {
          "output_type": "stream",
          "name": "stdout",
          "text": [
            "[ 0.8164 25.47  ]\n"
          ]
        }
      ]
    },
    {
      "cell_type": "code",
      "metadata": {
        "colab": {
          "base_uri": "https://localhost:8080/"
        },
        "id": "0LLEN3KUnb8Y",
        "outputId": "5fc8fcef-1612-4870-ac78-34a26e7f1c93"
      },
      "source": [
        "ts_04"
      ],
      "execution_count": 69,
      "outputs": [
        {
          "output_type": "execute_result",
          "data": {
            "text/plain": [
              "<tf.Tensor: shape=(2, 3), dtype=float16, numpy=\n",
              "array([[ 7.,  8.,  9.],\n",
              "       [ 5., 60.,  7.]], dtype=float16)>"
            ]
          },
          "metadata": {},
          "execution_count": 69
        }
      ]
    },
    {
      "cell_type": "markdown",
      "metadata": {
        "id": "lr0c3Fbjnxzp"
      },
      "source": [
        "# Finding the Positional Maximum and Minimum of a Tensor"
      ]
    },
    {
      "cell_type": "code",
      "metadata": {
        "colab": {
          "base_uri": "https://localhost:8080/"
        },
        "id": "fTnoKCUuwpRW",
        "outputId": "f273f573-7dcf-4368-acaa-decf4afad67b"
      },
      "source": [
        "tf.random.set_seed(42)\n",
        "ts_06 = tf.random.uniform([2,2,50])\n",
        "ts_06"
      ],
      "execution_count": 70,
      "outputs": [
        {
          "output_type": "execute_result",
          "data": {
            "text/plain": [
              "<tf.Tensor: shape=(2, 2, 50), dtype=float32, numpy=\n",
              "array([[[0.6645621 , 0.44100678, 0.3528825 , 0.46448255, 0.03366041,\n",
              "         0.68467236, 0.74011743, 0.8724445 , 0.22632635, 0.22319686,\n",
              "         0.3103881 , 0.7223358 , 0.13318717, 0.5480639 , 0.5746088 ,\n",
              "         0.8996835 , 0.00946367, 0.5212307 , 0.6345445 , 0.1993283 ,\n",
              "         0.72942245, 0.54583454, 0.10756552, 0.6767061 , 0.6602763 ,\n",
              "         0.33695042, 0.60141766, 0.21062577, 0.8527372 , 0.44062173,\n",
              "         0.9485276 , 0.23752594, 0.81179297, 0.5263394 , 0.494308  ,\n",
              "         0.21612847, 0.8457197 , 0.8718841 , 0.3083862 , 0.6868038 ,\n",
              "         0.23764038, 0.7817228 , 0.9671384 , 0.06870162, 0.79873943,\n",
              "         0.66028714, 0.5871513 , 0.16461694, 0.7381023 , 0.32054043],\n",
              "        [0.6073899 , 0.46523476, 0.97803545, 0.7223145 , 0.32347047,\n",
              "         0.82577336, 0.4976915 , 0.19483674, 0.7588748 , 0.3380444 ,\n",
              "         0.28128064, 0.31513572, 0.60670924, 0.7498598 , 0.5016055 ,\n",
              "         0.18282163, 0.13179815, 0.64636123, 0.9559475 , 0.6670735 ,\n",
              "         0.30755532, 0.36892188, 0.44735897, 0.18359458, 0.5288255 ,\n",
              "         0.7052754 , 0.898633  , 0.31386292, 0.62338257, 0.96815526,\n",
              "         0.11207926, 0.29590535, 0.9356605 , 0.1341263 , 0.31937933,\n",
              "         0.262277  , 0.03148758, 0.90045524, 0.6409379 , 0.5821855 ,\n",
              "         0.20917094, 0.71736085, 0.363523  , 0.04670918, 0.14977789,\n",
              "         0.84361756, 0.9355587 , 0.09517312, 0.08617878, 0.6247839 ]],\n",
              "\n",
              "       [[0.37050653, 0.5139042 , 0.6233207 , 0.8024682 , 0.1665138 ,\n",
              "         0.22090447, 0.62422717, 0.08719146, 0.92142665, 0.9348017 ,\n",
              "         0.60455227, 0.47940433, 0.14430141, 0.32600033, 0.92557526,\n",
              "         0.7757342 , 0.636765  , 0.6282351 , 0.35401833, 0.41446733,\n",
              "         0.11051309, 0.14114702, 0.18875909, 0.68947935, 0.72132754,\n",
              "         0.24881613, 0.59123814, 0.4975903 , 0.8977952 , 0.12173975,\n",
              "         0.13537169, 0.2550925 , 0.49842477, 0.7220254 , 0.51629806,\n",
              "         0.56034875, 0.58515704, 0.23798871, 0.91015995, 0.8715892 ,\n",
              "         0.7397566 , 0.52811134, 0.22950935, 0.01298523, 0.6457943 ,\n",
              "         0.559551  , 0.2665516 , 0.85811317, 0.9377897 , 0.9186075 ],\n",
              "        [0.8245703 , 0.04908001, 0.92604184, 0.8398135 , 0.31875753,\n",
              "         0.14604867, 0.79542184, 0.75567424, 0.16545188, 0.92727375,\n",
              "         0.42011547, 0.09383702, 0.4355166 , 0.52324045, 0.67036295,\n",
              "         0.8645121 , 0.23771429, 0.8498118 , 0.1940285 , 0.7576997 ,\n",
              "         0.07784891, 0.7654582 , 0.2807436 , 0.15384305, 0.5075326 ,\n",
              "         0.6427345 , 0.6027539 , 0.0688616 , 0.10266638, 0.40333736,\n",
              "         0.6032177 , 0.09881783, 0.31107998, 0.3766799 , 0.77216315,\n",
              "         0.37671113, 0.24959123, 0.02844262, 0.5558523 , 0.41985965,\n",
              "         0.8058865 , 0.30766475, 0.08244646, 0.13457918, 0.07229054,\n",
              "         0.46608198, 0.07737291, 0.74072695, 0.62744415, 0.4731288 ]]],\n",
              "      dtype=float32)>"
            ]
          },
          "metadata": {},
          "execution_count": 70
        }
      ]
    },
    {
      "cell_type": "code",
      "metadata": {
        "colab": {
          "base_uri": "https://localhost:8080/"
        },
        "id": "PeezrdBvylbd",
        "outputId": "7c769a4e-729b-449d-887b-387734954359"
      },
      "source": [
        "tf.argmax(ts_06, axis=2)"
      ],
      "execution_count": 71,
      "outputs": [
        {
          "output_type": "execute_result",
          "data": {
            "text/plain": [
              "<tf.Tensor: shape=(2, 2), dtype=int64, numpy=\n",
              "array([[42,  2],\n",
              "       [48,  9]])>"
            ]
          },
          "metadata": {},
          "execution_count": 71
        }
      ]
    },
    {
      "cell_type": "code",
      "metadata": {
        "colab": {
          "base_uri": "https://localhost:8080/"
        },
        "id": "iPbhSgBVzn60",
        "outputId": "7bbb6116-195c-4102-b19c-c7637ee9aa4d"
      },
      "source": [
        "tf.reduce_max(ts_06, axis=1)"
      ],
      "execution_count": 72,
      "outputs": [
        {
          "output_type": "execute_result",
          "data": {
            "text/plain": [
              "<tf.Tensor: shape=(2, 50), dtype=float32, numpy=\n",
              "array([[0.6645621 , 0.46523476, 0.97803545, 0.7223145 , 0.32347047,\n",
              "        0.82577336, 0.74011743, 0.8724445 , 0.7588748 , 0.3380444 ,\n",
              "        0.3103881 , 0.7223358 , 0.60670924, 0.7498598 , 0.5746088 ,\n",
              "        0.8996835 , 0.13179815, 0.64636123, 0.9559475 , 0.6670735 ,\n",
              "        0.72942245, 0.54583454, 0.44735897, 0.6767061 , 0.6602763 ,\n",
              "        0.7052754 , 0.898633  , 0.31386292, 0.8527372 , 0.96815526,\n",
              "        0.9485276 , 0.29590535, 0.9356605 , 0.5263394 , 0.494308  ,\n",
              "        0.262277  , 0.8457197 , 0.90045524, 0.6409379 , 0.6868038 ,\n",
              "        0.23764038, 0.7817228 , 0.9671384 , 0.06870162, 0.79873943,\n",
              "        0.84361756, 0.9355587 , 0.16461694, 0.7381023 , 0.6247839 ],\n",
              "       [0.8245703 , 0.5139042 , 0.92604184, 0.8398135 , 0.31875753,\n",
              "        0.22090447, 0.79542184, 0.75567424, 0.92142665, 0.9348017 ,\n",
              "        0.60455227, 0.47940433, 0.4355166 , 0.52324045, 0.92557526,\n",
              "        0.8645121 , 0.636765  , 0.8498118 , 0.35401833, 0.7576997 ,\n",
              "        0.11051309, 0.7654582 , 0.2807436 , 0.68947935, 0.72132754,\n",
              "        0.6427345 , 0.6027539 , 0.4975903 , 0.8977952 , 0.40333736,\n",
              "        0.6032177 , 0.2550925 , 0.49842477, 0.7220254 , 0.77216315,\n",
              "        0.56034875, 0.58515704, 0.23798871, 0.91015995, 0.8715892 ,\n",
              "        0.8058865 , 0.52811134, 0.22950935, 0.13457918, 0.6457943 ,\n",
              "        0.559551  , 0.2665516 , 0.85811317, 0.9377897 , 0.9186075 ]],\n",
              "      dtype=float32)>"
            ]
          },
          "metadata": {},
          "execution_count": 72
        }
      ]
    },
    {
      "cell_type": "code",
      "metadata": {
        "colab": {
          "base_uri": "https://localhost:8080/"
        },
        "id": "gKroEEN44y3b",
        "outputId": "4fc19c3d-3145-43a8-ce64-7c1004d2b1aa"
      },
      "source": [
        "F = ts_06[0,0]\n",
        "# Find the maximum element position of F\n",
        "print(f\"The maximum value of F is at position: {tf.argmax(F).numpy()}\") \n",
        "print(f\"The maximum value of F is: {tf.reduce_max(F).numpy()}\") \n",
        "print(f\"Using tf.argmax() to index F, the maximum value of F is: {F[tf.argmax(F)].numpy()}\")\n",
        "print(f\"Are the two max values the same (they should be)? {F[tf.argmax(F)].numpy() == tf.reduce_max(F).numpy()}\")"
      ],
      "execution_count": 73,
      "outputs": [
        {
          "output_type": "stream",
          "name": "stdout",
          "text": [
            "The maximum value of F is at position: 42\n",
            "The maximum value of F is: 0.967138409614563\n",
            "Using tf.argmax() to index F, the maximum value of F is: 0.967138409614563\n",
            "Are the two max values the same (they should be)? True\n"
          ]
        }
      ]
    },
    {
      "cell_type": "markdown",
      "metadata": {
        "id": "gpswXjfV6YO5"
      },
      "source": [
        "# Squeezing a Tensor\n",
        "Remove the dimension of size 1 from the shape of the tensor"
      ]
    },
    {
      "cell_type": "code",
      "metadata": {
        "colab": {
          "base_uri": "https://localhost:8080/"
        },
        "id": "1gblnO256la6",
        "outputId": "af0fc3a9-cef9-408f-e110-fe180ee79080"
      },
      "source": [
        "ts_06[0][0]"
      ],
      "execution_count": 74,
      "outputs": [
        {
          "output_type": "execute_result",
          "data": {
            "text/plain": [
              "<tf.Tensor: shape=(50,), dtype=float32, numpy=\n",
              "array([0.6645621 , 0.44100678, 0.3528825 , 0.46448255, 0.03366041,\n",
              "       0.68467236, 0.74011743, 0.8724445 , 0.22632635, 0.22319686,\n",
              "       0.3103881 , 0.7223358 , 0.13318717, 0.5480639 , 0.5746088 ,\n",
              "       0.8996835 , 0.00946367, 0.5212307 , 0.6345445 , 0.1993283 ,\n",
              "       0.72942245, 0.54583454, 0.10756552, 0.6767061 , 0.6602763 ,\n",
              "       0.33695042, 0.60141766, 0.21062577, 0.8527372 , 0.44062173,\n",
              "       0.9485276 , 0.23752594, 0.81179297, 0.5263394 , 0.494308  ,\n",
              "       0.21612847, 0.8457197 , 0.8718841 , 0.3083862 , 0.6868038 ,\n",
              "       0.23764038, 0.7817228 , 0.9671384 , 0.06870162, 0.79873943,\n",
              "       0.66028714, 0.5871513 , 0.16461694, 0.7381023 , 0.32054043],\n",
              "      dtype=float32)>"
            ]
          },
          "metadata": {},
          "execution_count": 74
        }
      ]
    },
    {
      "cell_type": "code",
      "metadata": {
        "colab": {
          "base_uri": "https://localhost:8080/"
        },
        "id": "GQRtv_j07Ihg",
        "outputId": "2ac81034-5e11-45e1-b859-ceea34d539e5"
      },
      "source": [
        "# Create a rank 5 (5 dimensions) tensor of 50 numbers between 0 and 100\n",
        "ts_07 = tf.constant(np.random.randint(0, 100, 50), shape=(1, 1, 1, 1, 50))\n",
        "ts_07.shape, ts_07.ndim"
      ],
      "execution_count": 75,
      "outputs": [
        {
          "output_type": "execute_result",
          "data": {
            "text/plain": [
              "(TensorShape([1, 1, 1, 1, 50]), 5)"
            ]
          },
          "metadata": {},
          "execution_count": 75
        }
      ]
    },
    {
      "cell_type": "code",
      "metadata": {
        "colab": {
          "base_uri": "https://localhost:8080/"
        },
        "id": "7OksmpQr9AHf",
        "outputId": "28ecce62-115c-49f0-8840-8a512ff4c6a6"
      },
      "source": [
        "ts_07"
      ],
      "execution_count": 76,
      "outputs": [
        {
          "output_type": "execute_result",
          "data": {
            "text/plain": [
              "<tf.Tensor: shape=(1, 1, 1, 1, 50), dtype=int64, numpy=\n",
              "array([[[[[50, 51, 72, 25, 41, 25,  8, 91, 56, 46, 32, 81, 30, 23, 96,\n",
              "           53, 36, 92, 79, 51, 12, 65,  5, 69, 29, 20, 11, 71, 60, 76,\n",
              "           14, 36,  1, 33, 78, 83, 32, 84, 48, 91, 20, 88,  2, 59, 29,\n",
              "           73, 47, 73, 37,  0]]]]])>"
            ]
          },
          "metadata": {},
          "execution_count": 76
        }
      ]
    },
    {
      "cell_type": "code",
      "metadata": {
        "colab": {
          "base_uri": "https://localhost:8080/"
        },
        "id": "JX9fkC7D9CTG",
        "outputId": "75fc4386-e700-4c06-dc98-113ec9505db7"
      },
      "source": [
        "ts_08 = tf.squeeze(ts_07)\n",
        "ts_08"
      ],
      "execution_count": 77,
      "outputs": [
        {
          "output_type": "execute_result",
          "data": {
            "text/plain": [
              "<tf.Tensor: shape=(50,), dtype=int64, numpy=\n",
              "array([50, 51, 72, 25, 41, 25,  8, 91, 56, 46, 32, 81, 30, 23, 96, 53, 36,\n",
              "       92, 79, 51, 12, 65,  5, 69, 29, 20, 11, 71, 60, 76, 14, 36,  1, 33,\n",
              "       78, 83, 32, 84, 48, 91, 20, 88,  2, 59, 29, 73, 47, 73, 37,  0])>"
            ]
          },
          "metadata": {},
          "execution_count": 77
        }
      ]
    },
    {
      "cell_type": "code",
      "metadata": {
        "colab": {
          "base_uri": "https://localhost:8080/"
        },
        "id": "guiTO4RS9kSZ",
        "outputId": "11fdf181-3d5d-479f-ee0d-83a16bac05ca"
      },
      "source": [
        "ts_08.ndim"
      ],
      "execution_count": 78,
      "outputs": [
        {
          "output_type": "execute_result",
          "data": {
            "text/plain": [
              "1"
            ]
          },
          "metadata": {},
          "execution_count": 78
        }
      ]
    },
    {
      "cell_type": "code",
      "metadata": {
        "colab": {
          "base_uri": "https://localhost:8080/"
        },
        "id": "BJT6AKJr9R4H",
        "outputId": "4b2d8ee2-774b-4b76-8158-9c106f3ecb53"
      },
      "source": [
        "ts_07.shape, ts_08.shape"
      ],
      "execution_count": 79,
      "outputs": [
        {
          "output_type": "execute_result",
          "data": {
            "text/plain": [
              "(TensorShape([1, 1, 1, 1, 50]), TensorShape([50]))"
            ]
          },
          "metadata": {},
          "execution_count": 79
        }
      ]
    },
    {
      "cell_type": "markdown",
      "metadata": {
        "id": "sOCz90609d-X"
      },
      "source": [
        "# One-Hot Encodig Tensors"
      ]
    },
    {
      "cell_type": "code",
      "metadata": {
        "colab": {
          "base_uri": "https://localhost:8080/"
        },
        "id": "O6gaCXcQBj08",
        "outputId": "47f02785-3359-475f-c6ba-c3223e90acdf"
      },
      "source": [
        "ts_02 = tf.Variable([1,2,3,4])\n",
        "tf.one_hot(ts_02, depth=4)"
      ],
      "execution_count": 80,
      "outputs": [
        {
          "output_type": "execute_result",
          "data": {
            "text/plain": [
              "<tf.Tensor: shape=(4, 4), dtype=float32, numpy=\n",
              "array([[0., 1., 0., 0.],\n",
              "       [0., 0., 1., 0.],\n",
              "       [0., 0., 0., 1.],\n",
              "       [0., 0., 0., 0.]], dtype=float32)>"
            ]
          },
          "metadata": {},
          "execution_count": 80
        }
      ]
    },
    {
      "cell_type": "code",
      "metadata": {
        "colab": {
          "base_uri": "https://localhost:8080/"
        },
        "id": "Er9tKB8nBu6k",
        "outputId": "07851702-c224-4b59-8c35-65865f39a915"
      },
      "source": [
        "tf.one_hot([1,5,4], depth=6)"
      ],
      "execution_count": 81,
      "outputs": [
        {
          "output_type": "execute_result",
          "data": {
            "text/plain": [
              "<tf.Tensor: shape=(3, 6), dtype=float32, numpy=\n",
              "array([[0., 1., 0., 0., 0., 0.],\n",
              "       [0., 0., 0., 0., 0., 1.],\n",
              "       [0., 0., 0., 0., 1., 0.]], dtype=float32)>"
            ]
          },
          "metadata": {},
          "execution_count": 81
        }
      ]
    },
    {
      "cell_type": "markdown",
      "metadata": {
        "id": "gkRQstYdCRsD"
      },
      "source": [
        "# Squaring, log, square root"
      ]
    },
    {
      "cell_type": "code",
      "metadata": {
        "colab": {
          "base_uri": "https://localhost:8080/"
        },
        "id": "a5ckFq2Y_06e",
        "outputId": "58830d59-38d6-4ee0-fc43-f4878050106a"
      },
      "source": [
        "# Create a new tensor\n",
        "ts_08 = tf.constant(np.arange(1, 10))\n",
        "\n",
        "ts_09 = tf.square(ts_08)\n",
        "print(ts_08.numpy())\n",
        "print(ts_09.numpy())"
      ],
      "execution_count": 82,
      "outputs": [
        {
          "output_type": "stream",
          "name": "stdout",
          "text": [
            "[1 2 3 4 5 6 7 8 9]\n",
            "[ 1  4  9 16 25 36 49 64 81]\n"
          ]
        }
      ]
    },
    {
      "cell_type": "code",
      "metadata": {
        "colab": {
          "base_uri": "https://localhost:8080/"
        },
        "id": "J8c77e6DAWN1",
        "outputId": "691708d3-6f3f-4d84-d697-7ad84850a34c"
      },
      "source": [
        "# Find the squareroot - needs to be non-integer\n",
        "tf.sqrt(tf.cast(ts_08, dtype=tf.float32))"
      ],
      "execution_count": 83,
      "outputs": [
        {
          "output_type": "execute_result",
          "data": {
            "text/plain": [
              "<tf.Tensor: shape=(9,), dtype=float32, numpy=\n",
              "array([0.99999994, 1.4142134 , 1.7320508 , 1.9999999 , 2.236068  ,\n",
              "       2.4494896 , 2.6457512 , 2.8284268 , 3.        ], dtype=float32)>"
            ]
          },
          "metadata": {},
          "execution_count": 83
        }
      ]
    },
    {
      "cell_type": "code",
      "metadata": {
        "colab": {
          "base_uri": "https://localhost:8080/"
        },
        "id": "yt1GmQ9qBpAM",
        "outputId": "bef2fcd5-8189-4cf2-df10-94bf9fa1af18"
      },
      "source": [
        "tf.math.log(tf.cast(ts_08, dtype=tf.float32))"
      ],
      "execution_count": 84,
      "outputs": [
        {
          "output_type": "execute_result",
          "data": {
            "text/plain": [
              "<tf.Tensor: shape=(9,), dtype=float32, numpy=\n",
              "array([0.       , 0.6931472, 1.0986123, 1.3862944, 1.609438 , 1.7917595,\n",
              "       1.9459102, 2.0794415, 2.1972246], dtype=float32)>"
            ]
          },
          "metadata": {},
          "execution_count": 84
        }
      ]
    },
    {
      "cell_type": "markdown",
      "metadata": {
        "id": "NXJaQxVLB3-m"
      },
      "source": [
        "# Manipulating tf.Variable tensors\n",
        "\n",
        "Tensors created with tf.Variable() can be changed in place using methods such as:\n",
        "\n",
        ".assign() - assign a different value to a particular index of a variable tensor.\n",
        ".add_assign() - add to an existing value and reassign it at a particular index of a variable tensor."
      ]
    },
    {
      "cell_type": "code",
      "metadata": {
        "colab": {
          "base_uri": "https://localhost:8080/"
        },
        "id": "56rBfH3zQ66u",
        "outputId": "16a56e1b-6ee9-4764-a438-842fdb2ecdf6"
      },
      "source": [
        "ts_10 = tf.Variable(np.arange(0, 5))\n",
        "ts_10"
      ],
      "execution_count": 85,
      "outputs": [
        {
          "output_type": "execute_result",
          "data": {
            "text/plain": [
              "<tf.Variable 'Variable:0' shape=(5,) dtype=int64, numpy=array([0, 1, 2, 3, 4])>"
            ]
          },
          "metadata": {},
          "execution_count": 85
        }
      ]
    },
    {
      "cell_type": "code",
      "metadata": {
        "colab": {
          "base_uri": "https://localhost:8080/"
        },
        "id": "qaVoTsxySeou",
        "outputId": "8496adeb-3fd6-429d-89f0-28d0a17a93e0"
      },
      "source": [
        "# Assign the final value a new value of 50\n",
        "ts_10.assign([0, 1, 2,  50,4])"
      ],
      "execution_count": 86,
      "outputs": [
        {
          "output_type": "execute_result",
          "data": {
            "text/plain": [
              "<tf.Variable 'UnreadVariable' shape=(5,) dtype=int64, numpy=array([ 0,  1,  2, 50,  4])>"
            ]
          },
          "metadata": {},
          "execution_count": 86
        }
      ]
    },
    {
      "cell_type": "code",
      "metadata": {
        "colab": {
          "base_uri": "https://localhost:8080/"
        },
        "id": "M9mFHdu0Sk5t",
        "outputId": "b673c202-3225-42be-9c63-11bcf77263c0"
      },
      "source": [
        "ts_10.assign_add([10, 10, 10, 10, 10])"
      ],
      "execution_count": 87,
      "outputs": [
        {
          "output_type": "execute_result",
          "data": {
            "text/plain": [
              "<tf.Variable 'UnreadVariable' shape=(5,) dtype=int64, numpy=array([10, 11, 12, 60, 14])>"
            ]
          },
          "metadata": {},
          "execution_count": 87
        }
      ]
    },
    {
      "cell_type": "markdown",
      "metadata": {
        "id": "i_xnvyL-TJ21"
      },
      "source": [
        "# Tensors and NumPy\n",
        "By default tensors have dtype=float32, where as NumPy arrays have dtype=float64."
      ]
    },
    {
      "cell_type": "code",
      "metadata": {
        "colab": {
          "base_uri": "https://localhost:8080/"
        },
        "id": "14-PPdg5TUYN",
        "outputId": "593642a5-eb1a-4236-cf3f-5e85cebb8377"
      },
      "source": [
        "# Create a tensor from NumPy and from an array\n",
        "numpy_J = tf.constant(np.array([3., 7., 10.])) # will be float64 (due to NumPy)\n",
        "tensor_J = tf.constant([3., 7., 10.]) # will be float32 (due to being TensorFlow default)\n",
        "numpy_J.dtype, tensor_J.dtype"
      ],
      "execution_count": 88,
      "outputs": [
        {
          "output_type": "execute_result",
          "data": {
            "text/plain": [
              "(tf.float64, tf.float32)"
            ]
          },
          "metadata": {},
          "execution_count": 88
        }
      ]
    },
    {
      "cell_type": "markdown",
      "metadata": {
        "id": "rH_Mlr9riYwe"
      },
      "source": [
        "# Using @tf.function\n",
        "In your TensorFlow adventures, you might come across Python functions which have the decorator @tf.function.\n",
        "In the @tf.function decorator case, it turns a Python function into a callable TensorFlow graph. Which is a fancy way of saying, if you've written your own Python function, and you decorate it with @tf.function, when you export your code (to potentially run on another device), TensorFlow will attempt to convert it into a fast(er) version of itself (by making it part of a computation graph)."
      ]
    },
    {
      "cell_type": "code",
      "metadata": {
        "colab": {
          "base_uri": "https://localhost:8080/"
        },
        "id": "X-K0wbBZFsgV",
        "outputId": "9737773a-b387-40a1-e8a4-2f8d37f6d7d7"
      },
      "source": [
        "# Create a simple function\n",
        "def function(x, y):\n",
        "  return x ** 2 + y\n",
        "\n",
        "x = tf.constant(np.arange(0, 10))\n",
        "y = tf.constant(np.arange(10, 20))\n",
        "function(x, y)"
      ],
      "execution_count": 89,
      "outputs": [
        {
          "output_type": "execute_result",
          "data": {
            "text/plain": [
              "<tf.Tensor: shape=(10,), dtype=int64, numpy=array([ 10,  12,  16,  22,  30,  40,  52,  66,  82, 100])>"
            ]
          },
          "metadata": {},
          "execution_count": 89
        }
      ]
    },
    {
      "cell_type": "code",
      "metadata": {
        "colab": {
          "base_uri": "https://localhost:8080/"
        },
        "id": "B5GpGw4ZFwNN",
        "outputId": "c4b5fba2-72aa-4766-d4e7-8c76aacb963f"
      },
      "source": [
        "# Create the same function and decorate it with tf.function\n",
        "@tf.function\n",
        "def function(x, y):\n",
        "  return x ** 2 + y\n",
        "\n",
        "function(x, y)"
      ],
      "execution_count": 90,
      "outputs": [
        {
          "output_type": "execute_result",
          "data": {
            "text/plain": [
              "<tf.Tensor: shape=(10,), dtype=int64, numpy=array([ 10,  12,  16,  22,  30,  40,  52,  66,  82, 100])>"
            ]
          },
          "metadata": {},
          "execution_count": 90
        }
      ]
    },
    {
      "cell_type": "markdown",
      "metadata": {
        "id": "1qCuBJEVFy1-"
      },
      "source": [
        "If you noticed no difference between the above two functions (the decorated one and the non-decorated one) you'd be right.\n",
        "\n",
        "Much of the difference happens behind the scenes. One of the main ones being potential code speed-ups where possible."
      ]
    },
    {
      "cell_type": "markdown",
      "metadata": {
        "id": "ZY8yjZQMGCLW"
      },
      "source": [
        "# Finding access to GPUs\n",
        "We've mentioned GPUs plenty of times throughout this notebook.\n",
        "\n",
        "So how do you check if you've got one available?\n",
        "\n",
        "You can check if you've got access to a GPU using tf.config.list_physical_devices()."
      ]
    },
    {
      "cell_type": "code",
      "metadata": {
        "colab": {
          "base_uri": "https://localhost:8080/"
        },
        "id": "aTOOie-7GE5l",
        "outputId": "26386277-842a-4030-b1e2-7014fbc07d11"
      },
      "source": [
        "print(tf.config.list_physical_devices('GPU'))"
      ],
      "execution_count": 91,
      "outputs": [
        {
          "output_type": "stream",
          "name": "stdout",
          "text": [
            "[]\n"
          ]
        }
      ]
    },
    {
      "cell_type": "markdown",
      "metadata": {
        "id": "QfiVvYPIGcWp"
      },
      "source": [
        "If the above outputs an empty array (or nothing), it means you don't have access to a GPU (or at least TensorFlow can't find it)."
      ]
    },
    {
      "cell_type": "markdown",
      "metadata": {
        "id": "SDy3rjcHGoo9"
      },
      "source": [
        "If you're running in Google Colab, you can access a GPU by going to Runtime -> Change Runtime Type -> Select GPU (note: after doing this your notebook will restart and any variables you've saved will be lost)."
      ]
    },
    {
      "cell_type": "markdown",
      "metadata": {
        "id": "-tmHcGakHTha"
      },
      "source": [
        "You can also find information about your GPU using !nvidia-smi."
      ]
    },
    {
      "cell_type": "code",
      "metadata": {
        "colab": {
          "base_uri": "https://localhost:8080/"
        },
        "id": "rVe1kk_rHUQ9",
        "outputId": "0960e6cd-5f54-45a3-ad26-4e9912ac88c4"
      },
      "source": [
        "!nvidia-smi"
      ],
      "execution_count": 92,
      "outputs": [
        {
          "output_type": "stream",
          "name": "stdout",
          "text": [
            "NVIDIA-SMI has failed because it couldn't communicate with the NVIDIA driver. Make sure that the latest NVIDIA driver is installed and running.\n",
            "\n"
          ]
        }
      ]
    },
    {
      "cell_type": "markdown",
      "metadata": {
        "id": "KVHG7b5_HXTd"
      },
      "source": [
        "🔑 Note: If you have access to a GPU, TensorFlow will automatically use it whenever possible."
      ]
    }
  ]
}